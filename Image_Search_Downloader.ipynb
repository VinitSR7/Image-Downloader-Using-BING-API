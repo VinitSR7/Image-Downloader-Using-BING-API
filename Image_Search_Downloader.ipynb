{
  "nbformat": 4,
  "nbformat_minor": 0,
  "metadata": {
    "colab": {
      "name": "Image Search Downloader ",
      "provenance": [],
      "collapsed_sections": [],
      "authorship_tag": "ABX9TyOjpCqLX+rXzXrZmjJVV/XG",
      "include_colab_link": true
    },
    "kernelspec": {
      "name": "python3",
      "display_name": "Python 3"
    }
  },
  "cells": [
    {
      "cell_type": "markdown",
      "metadata": {
        "id": "view-in-github",
        "colab_type": "text"
      },
      "source": [
        "<a href=\"https://colab.research.google.com/github/VinitSR7/Image-Downloader-Using-BING-API/blob/master/Image_Search_Downloader.ipynb\" target=\"_parent\"><img src=\"https://colab.research.google.com/assets/colab-badge.svg\" alt=\"Open In Colab\"/></a>"
      ]
    },
    {
      "cell_type": "code",
      "metadata": {
        "id": "emk-QG_Za6Ir",
        "colab_type": "code",
        "colab": {}
      },
      "source": [
        "from google.colab import drive"
      ],
      "execution_count": 0,
      "outputs": []
    },
    {
      "cell_type": "code",
      "metadata": {
        "id": "JXbULCSHbNOh",
        "colab_type": "code",
        "outputId": "d5e6f9ce-cbfe-4cfe-dfd6-be397b9e67e6",
        "colab": {
          "base_uri": "https://localhost:8080/",
          "height": 34
        }
      },
      "source": [
        "drive.mount('/content/gdrive')"
      ],
      "execution_count": 0,
      "outputs": [
        {
          "output_type": "stream",
          "text": [
            "Drive already mounted at /content/gdrive; to attempt to forcibly remount, call drive.mount(\"/content/gdrive\", force_remount=True).\n"
          ],
          "name": "stdout"
        }
      ]
    },
    {
      "cell_type": "code",
      "metadata": {
        "id": "FYLmSmHabcHV",
        "colab_type": "code",
        "colab": {}
      },
      "source": [
        ""
      ],
      "execution_count": 0,
      "outputs": []
    },
    {
      "cell_type": "code",
      "metadata": {
        "id": "Bqo_kl2Gbmmh",
        "colab_type": "code",
        "colab": {}
      },
      "source": [
        ""
      ],
      "execution_count": 0,
      "outputs": []
    },
    {
      "cell_type": "markdown",
      "metadata": {
        "id": "iEjfHiEFbqQl",
        "colab_type": "text"
      },
      "source": [
        "### API Keys adding them to *envs*"
      ]
    },
    {
      "cell_type": "code",
      "metadata": {
        "id": "x3oQBj0Wbmrv",
        "colab_type": "code",
        "outputId": "a37a54c4-92a5-48b4-d9c2-6621a7fe0a74",
        "colab": {
          "base_uri": "https://localhost:8080/",
          "height": 34
        }
      },
      "source": [
        "BING_SEARCH_V7_SUBSCRIPTION_KEY = input(\"Subscription key : \") # input the above API key here."
      ],
      "execution_count": 0,
      "outputs": [
        {
          "output_type": "stream",
          "text": [
            "Subscription key : ca29ca2c2ec0498eadcec54111493e5d\n"
          ],
          "name": "stdout"
        }
      ]
    },
    {
      "cell_type": "code",
      "metadata": {
        "id": "ngBN-JKXbmo7",
        "colab_type": "code",
        "colab": {}
      },
      "source": [
        "import os\n",
        "# Add your Bing Search V7 subscription key and endpoint to your environment variables.\n",
        "os.environ['BING_SEARCH_V7_SUBSCRIPTION_KEY'] = BING_SEARCH_V7_SUBSCRIPTION_KEY"
      ],
      "execution_count": 0,
      "outputs": []
    },
    {
      "cell_type": "markdown",
      "metadata": {
        "id": "mkIE4EGob4un",
        "colab_type": "text"
      },
      "source": [
        "# Using the Bing search API with key"
      ]
    },
    {
      "cell_type": "code",
      "metadata": {
        "id": "A8RrbB_Eb13z",
        "colab_type": "code",
        "colab": {}
      },
      "source": [
        "import json\n",
        "import os \n",
        "from pprint import pprint\n",
        "import requests\n",
        "import http.client, urllib.request, urllib.parse, urllib.error, base64"
      ],
      "execution_count": 0,
      "outputs": []
    },
    {
      "cell_type": "code",
      "metadata": {
        "id": "MVS4AXWhb6-f",
        "colab_type": "code",
        "colab": {}
      },
      "source": [
        "headers = {\n",
        "      'Ocp-Apim-Subscription-Key': os.environ['BING_SEARCH_V7_SUBSCRIPTION_KEY'],\n",
        "}"
      ],
      "execution_count": 0,
      "outputs": []
    },
    {
      "cell_type": "markdown",
      "metadata": {
        "id": "aRFJLZyucF8i",
        "colab_type": "text"
      },
      "source": [
        "# Bing Image Search API"
      ]
    },
    {
      "cell_type": "code",
      "metadata": {
        "id": "Il31y7BKcGMT",
        "colab_type": "code",
        "colab": {}
      },
      "source": [
        "from PIL import Image\n",
        "import requests\n",
        "import matplotlib.pyplot as plt\n",
        "\n",
        "def show_img(url,  title=''):\n",
        "  response = requests.get(url, stream=True)\n",
        "  img = Image.open(response.raw)\n",
        "\n",
        "  plt.imshow(img)\n",
        "  plt.axis('off')\n",
        "  plt.title(title)\n",
        "  plt.show()\n",
        "\n",
        "def download_img(url, idx):\n",
        "  response = requests.get(url, stream = True)\n",
        "  img = Image.open(response.raw)\n",
        "  \n",
        "  img.save('downloads/img' + str(idx) + '.jpg')\n",
        "def search_images(query, offset=0, count=5):\n",
        "\n",
        "  params = urllib.parse.urlencode({\n",
        "      # Request parameters\n",
        "      'q': query,\n",
        "      'count': count,   # # of results per request\n",
        "      'offset': offset,   # change this offset to get the next 10 results\n",
        "      'mkt': 'en-us',\n",
        "      'safesearch': 'Moderate',\n",
        "  })\n",
        "\n",
        "  try:\n",
        "      conn = http.client.HTTPSConnection('api.cognitive.microsoft.com')\n",
        "      conn.request(\"GET\", \"/bing/v7.0/images/search?%s\" % params, \"{body}\", headers) # changes in this line\n",
        "      response = conn.getresponse()\n",
        "      data = response.read()\n",
        "      conn.close()\n",
        "  except Exception as e:\n",
        "      print(\"[Errno {0}] {1}\".format(e.errno, e.strerror))\n",
        "\n",
        "  return json.loads(data)"
      ],
      "execution_count": 0,
      "outputs": []
    },
    {
      "cell_type": "code",
      "metadata": {
        "id": "hld_XmytdcOE",
        "colab_type": "code",
        "colab": {}
      },
      "source": [
        ""
      ],
      "execution_count": 0,
      "outputs": []
    },
    {
      "cell_type": "markdown",
      "metadata": {
        "id": "AhsC12SGcM7O",
        "colab_type": "text"
      },
      "source": [
        "## Image Search"
      ]
    },
    {
      "cell_type": "code",
      "metadata": {
        "id": "W0LVMcP7cNMn",
        "colab_type": "code",
        "colab": {}
      },
      "source": [
        "res = search_images(\"Road side garbage\", offset=0, count=1000) \n",
        "#for k,v in res.items():\n",
        "#  print(\"{:21s} : {}\".format(k, v))"
      ],
      "execution_count": 0,
      "outputs": []
    },
    {
      "cell_type": "markdown",
      "metadata": {
        "id": "0WYIdyELcs5x",
        "colab_type": "text"
      },
      "source": [
        "## Image Search Results"
      ]
    },
    {
      "cell_type": "code",
      "metadata": {
        "id": "N1Lk77BpcVLd",
        "colab_type": "code",
        "colab": {}
      },
      "source": [
        "for i, val in enumerate (res['value']):\n",
        "  download_img(val['thumbnailUrl'], i)\n",
        "  #show_img(val['thumbnailUrl'])\n",
        "  #for k,v in val.items():\n",
        "  #  print('{:10s}: {}'.format(k,v))\n",
        "  #print('-'*50, '\\n')"
      ],
      "execution_count": 0,
      "outputs": []
    },
    {
      "cell_type": "code",
      "metadata": {
        "id": "N5lAa9xMu2Z3",
        "colab_type": "code",
        "colab": {}
      },
      "source": [
        ""
      ],
      "execution_count": 0,
      "outputs": []
    }
  ]
}