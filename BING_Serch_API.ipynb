{
  "nbformat": 4,
  "nbformat_minor": 0,
  "metadata": {
    "colab": {
      "name": "BING Serch API",
      "provenance": [],
      "collapsed_sections": [],
      "authorship_tag": "ABX9TyNwu3OnGcBDJxSNLciEtOXO",
      "include_colab_link": true
    },
    "kernelspec": {
      "name": "python3",
      "display_name": "Python 3"
    }
  },
  "cells": [
    {
      "cell_type": "markdown",
      "metadata": {
        "id": "view-in-github",
        "colab_type": "text"
      },
      "source": [
        "<a href=\"https://colab.research.google.com/github/VinitSR7/Image-Downloader-Using-BING-API/blob/master/BING_Serch_API.ipynb\" target=\"_parent\"><img src=\"https://colab.research.google.com/assets/colab-badge.svg\" alt=\"Open In Colab\"/></a>"
      ]
    },
    {
      "cell_type": "code",
      "metadata": {
        "id": "emk-QG_Za6Ir",
        "colab_type": "code",
        "colab": {}
      },
      "source": [
        "from google.colab import drive"
      ],
      "execution_count": 0,
      "outputs": []
    },
    {
      "cell_type": "code",
      "metadata": {
        "id": "JXbULCSHbNOh",
        "colab_type": "code",
        "outputId": "17ef4c95-ca6a-47ea-f5fb-8d0cad9bf6ef",
        "colab": {
          "base_uri": "https://localhost:8080/",
          "height": 118
        }
      },
      "source": [
        "drive.mount('/content/gdrive')"
      ],
      "execution_count": 2,
      "outputs": [
        {
          "output_type": "stream",
          "text": [
            "Go to this URL in a browser: https://accounts.google.com/o/oauth2/auth?client_id=947318989803-6bn6qk8qdgf4n4g3pfee6491hc0brc4i.apps.googleusercontent.com&redirect_uri=urn%3aietf%3awg%3aoauth%3a2.0%3aoob&response_type=code&scope=email%20https%3a%2f%2fwww.googleapis.com%2fauth%2fdocs.test%20https%3a%2f%2fwww.googleapis.com%2fauth%2fdrive%20https%3a%2f%2fwww.googleapis.com%2fauth%2fdrive.photos.readonly%20https%3a%2f%2fwww.googleapis.com%2fauth%2fpeopleapi.readonly\n",
            "\n",
            "Enter your authorization code:\n",
            "··········\n",
            "Mounted at /content/gdrive\n"
          ],
          "name": "stdout"
        }
      ]
    },
    {
      "cell_type": "code",
      "metadata": {
        "id": "FYLmSmHabcHV",
        "colab_type": "code",
        "colab": {
          "base_uri": "https://localhost:8080/",
          "height": 33
        },
        "outputId": "aa8cc8aa-4106-4df0-cdce-b5d359f17222"
      },
      "source": [
        "cd gdrive/My\\ Drive/Google\\ API/"
      ],
      "execution_count": 4,
      "outputs": [
        {
          "output_type": "stream",
          "text": [
            "/content/gdrive/My Drive/Google API\n"
          ],
          "name": "stdout"
        }
      ]
    },
    {
      "cell_type": "code",
      "metadata": {
        "id": "Bqo_kl2Gbmmh",
        "colab_type": "code",
        "colab": {}
      },
      "source": [
        ""
      ],
      "execution_count": 0,
      "outputs": []
    },
    {
      "cell_type": "markdown",
      "metadata": {
        "id": "iEjfHiEFbqQl",
        "colab_type": "text"
      },
      "source": [
        "### API Keys adding them to *envs*"
      ]
    },
    {
      "cell_type": "code",
      "metadata": {
        "id": "x3oQBj0Wbmrv",
        "colab_type": "code",
        "outputId": "f5fabf09-3cfd-472a-fceb-e258ca0b06fb",
        "colab": {
          "base_uri": "https://localhost:8080/",
          "height": 33
        }
      },
      "source": [
        "BING_SEARCH_V7_SUBSCRIPTION_KEY = input(\"Subscription key : \") # input the above API key here."
      ],
      "execution_count": 5,
      "outputs": [
        {
          "output_type": "stream",
          "text": [
            "Subscription key : ca29ca2c2ec0498eadcec54111493e5d\n"
          ],
          "name": "stdout"
        }
      ]
    },
    {
      "cell_type": "code",
      "metadata": {
        "id": "ngBN-JKXbmo7",
        "colab_type": "code",
        "colab": {}
      },
      "source": [
        "import os\n",
        "# Add your Bing Search V7 subscription key and endpoint to your environment variables.\n",
        "os.environ['BING_SEARCH_V7_SUBSCRIPTION_KEY'] = BING_SEARCH_V7_SUBSCRIPTION_KEY"
      ],
      "execution_count": 0,
      "outputs": []
    },
    {
      "cell_type": "markdown",
      "metadata": {
        "id": "mkIE4EGob4un",
        "colab_type": "text"
      },
      "source": [
        "# Using the Bing search API with key"
      ]
    },
    {
      "cell_type": "code",
      "metadata": {
        "id": "A8RrbB_Eb13z",
        "colab_type": "code",
        "colab": {}
      },
      "source": [
        "import json\n",
        "import os \n",
        "from pprint import pprint\n",
        "import requests\n",
        "import http.client, urllib.request, urllib.parse, urllib.error, base64"
      ],
      "execution_count": 0,
      "outputs": []
    },
    {
      "cell_type": "code",
      "metadata": {
        "id": "MVS4AXWhb6-f",
        "colab_type": "code",
        "colab": {}
      },
      "source": [
        "headers = {\n",
        "      'Ocp-Apim-Subscription-Key': os.environ['BING_SEARCH_V7_SUBSCRIPTION_KEY'],\n",
        "}"
      ],
      "execution_count": 0,
      "outputs": []
    },
    {
      "cell_type": "markdown",
      "metadata": {
        "id": "aRFJLZyucF8i",
        "colab_type": "text"
      },
      "source": [
        "# Bing Search API"
      ]
    },
    {
      "cell_type": "code",
      "metadata": {
        "id": "Il31y7BKcGMT",
        "colab_type": "code",
        "colab": {}
      },
      "source": [
        "import http.client, urllib.request, urllib.parse, urllib.error, base64\n",
        "import json\n",
        "\n",
        "def search(query, offset=0, count=10):\n",
        "\n",
        "  params = urllib.parse.urlencode({\n",
        "      # Request parameters\n",
        "      'q': query,\n",
        "      'count': count,\n",
        "      'offset': offset,\n",
        "      'mkt': 'en-us',\n",
        "      'safesearch': 'Moderate',\n",
        "  })\n",
        "\n",
        "  try:\n",
        "      conn = http.client.HTTPSConnection('api.cognitive.microsoft.com')\n",
        "      conn.request(\"GET\", \"/bing/v7.0/search?%s\" % params, \"{body}\", headers)\n",
        "      response = conn.getresponse()\n",
        "      data = response.read()\n",
        "      conn.close()\n",
        "  except Exception as e:\n",
        "      print(\"[Errno {0}] {1}\".format(e.errno, e.strerror))\n",
        "\n",
        "  return json.loads(data)"
      ],
      "execution_count": 0,
      "outputs": []
    },
    {
      "cell_type": "code",
      "metadata": {
        "id": "hld_XmytdcOE",
        "colab_type": "code",
        "colab": {}
      },
      "source": [
        ""
      ],
      "execution_count": 0,
      "outputs": []
    },
    {
      "cell_type": "code",
      "metadata": {
        "id": "N5lAa9xMu2Z3",
        "colab_type": "code",
        "colab": {
          "base_uri": "https://localhost:8080/",
          "height": 33
        },
        "outputId": "7a61f273-5851-4802-9d57-7183c717e388"
      },
      "source": [
        "query = \"Steve Jobs\"\n",
        "query"
      ],
      "execution_count": 20,
      "outputs": [
        {
          "output_type": "execute_result",
          "data": {
            "text/plain": [
              "'Steve Jobs'"
            ]
          },
          "metadata": {
            "tags": []
          },
          "execution_count": 20
        }
      ]
    },
    {
      "cell_type": "code",
      "metadata": {
        "id": "jlIC7cLd5zl9",
        "colab_type": "code",
        "colab": {
          "base_uri": "https://localhost:8080/",
          "height": 33
        },
        "outputId": "20bf337b-d3ac-476f-cede-57bdfd660502"
      },
      "source": [
        "# Performed the serach query\n",
        "res = search(query, offset=0, count=10)\n",
        "res.keys()"
      ],
      "execution_count": 21,
      "outputs": [
        {
          "output_type": "execute_result",
          "data": {
            "text/plain": [
              "dict_keys(['_type', 'queryContext', 'webPages', 'entities', 'images', 'news', 'relatedSearches', 'videos', 'rankingResponse'])"
            ]
          },
          "metadata": {
            "tags": []
          },
          "execution_count": 21
        }
      ]
    },
    {
      "cell_type": "code",
      "metadata": {
        "id": "lTfxINU752rd",
        "colab_type": "code",
        "colab": {
          "base_uri": "https://localhost:8080/",
          "height": 183
        },
        "outputId": "6f503d15-c294-48cd-9694-152abc492590"
      },
      "source": [
        "for k,v in res.items():\n",
        "  print(\"{:15s} : {}\".format(k, v))"
      ],
      "execution_count": 22,
      "outputs": [
        {
          "output_type": "stream",
          "text": [
            "_type           : SearchResponse\n",
            "queryContext    : {'originalQuery': 'Steve Jobs'}\n",
            "webPages        : {'webSearchUrl': 'https://www.bing.com/search?q=Steve+Jobs', 'totalEstimatedMatches': 7010000, 'value': [{'id': 'https://api.cognitive.microsoft.com/api/v7/#WebPages.0', 'contractualRules': [{'_type': 'ContractualRules/LicenseAttribution', 'targetPropertyName': 'description', 'targetPropertyIndex': 0, 'mustBeCloseToContent': True, 'license': {'name': 'CC-BY-SA', 'url': 'http://creativecommons.org/licenses/by-sa/3.0/'}, 'licenseNotice': 'Text under CC-BY-SA license'}], 'name': 'Steve Jobs - Wikipedia', 'url': 'https://en.wikipedia.org/wiki/Steve_Jobs', 'about': [{'name': 'Steve Jobs'}, {'name': 'Steve Jobs'}], 'isFamilyFriendly': True, 'displayUrl': 'https://en.wikipedia.org/wiki/Steve_Jobs', 'snippet': \"Steven Paul Jobs (/ dʒ ɒ b z /; February 24, 1955 – October 5, 2011) was an American business magnate, industrial designer, investor, and media proprietor.He was the chairman, chief executive officer (CEO), and co-founder of Apple Inc., the chairman and majority shareholder of Pixar, a member of The Walt Disney Company's board of directors following its acquisition of Pixar, and the ...\", 'dateLastCrawled': '2020-03-11T09:07:00.0000000Z', 'language': 'en', 'isNavigational': False}, {'id': 'https://api.cognitive.microsoft.com/api/v7/#WebPages.1', 'name': 'Steve Jobs - Apple, Family & Death - Biography', 'url': 'https://www.biography.com/business-figure/steve-jobs', 'about': [{'name': 'Steve Jobs'}, {'name': 'Steve Jobs'}], 'isFamilyFriendly': True, 'displayUrl': 'https://www.biography.com/business-figure/steve-jobs', 'snippet': \"Steve Jobs co-founded Apple Computers with Steve Wozniak. Under Jobs' guidance, the company pioneered a series of revolutionary technologies, including the iPhone and iPad.\", 'deepLinks': [{'name': 'Bill Gates', 'url': 'https://www.biography.com/business-figure/bill-gates'}, {'name': 'Tim Cook', 'url': 'https://www.biography.com/business-figure/tim-cook'}, {'name': 'Steve Wozniak', 'url': 'https://www.biography.com/inventor/steve-wozniak'}], 'dateLastCrawled': '2020-03-11T22:36:00.0000000Z', 'language': 'en', 'isNavigational': False}, {'id': 'https://api.cognitive.microsoft.com/api/v7/#WebPages.2', 'name': 'Steve Jobs | Biography, Apple, & Facts | Britannica', 'url': 'https://www.britannica.com/biography/Steve-Jobs', 'about': [{'name': 'Steve Jobs'}], 'isFamilyFriendly': True, 'displayUrl': 'https://www.britannica.com/biography/Steve-Jobs', 'snippet': 'Steve Jobs, cofounder of Apple Computer, Inc. (now Apple Inc.), and a charismatic pioneer of the personal computer era. Under his oversight, Apple introduced such innovative products as the iMac, iPhone, and iPod. He also helped build Pixar into a major animation studio. Learn more about Jobs’s life and career.', 'dateLastCrawled': '2020-03-11T05:04:00.0000000Z', 'language': 'en', 'isNavigational': False}, {'id': 'https://api.cognitive.microsoft.com/api/v7/#WebPages.3', 'name': 'Steve Jobs Biography | Biography Online', 'url': 'https://www.biographyonline.net/business/steve-jobs.html', 'about': [{'name': 'Steve Jobs'}], 'isFamilyFriendly': True, 'displayUrl': 'https://www.biographyonline.net/business/steve-jobs.html', 'snippet': 'Steve Jobs (Feb 24, 1955 – October 5, 2011) was an American businessman and inventor who played a key role in the success of Apple computers and the development of revolutionary new technology such as the iPod, iPad and MacBook.', 'dateLastCrawled': '2020-03-13T14:12:00.0000000Z', 'language': 'en', 'isNavigational': False}, {'id': 'https://api.cognitive.microsoft.com/api/v7/#WebPages.4', 'name': 'Steve Jobs: Walter Isaacson: 9781451648539: Amazon.com: Books', 'url': 'https://www.amazon.com/Steve-Jobs-Walter-Isaacson/dp/1451648537', 'about': [{'name': 'Steve Jobs'}, {'name': 'Steve Jobs'}], 'isFamilyFriendly': True, 'displayUrl': 'https://www.amazon.com/Steve-Jobs-Walter-Isaacson/dp/1451648537', 'snippet': 'Steve Jobs [Walter Isaacson] on Amazon.com. *FREE* shipping on qualifying offers. Based on more than forty interviews with Jobs conducted over two years—as well as interviews with more than a hundred family members', 'dateLastCrawled': '2020-03-03T06:19:00.0000000Z', 'language': 'en', 'isNavigational': False}, {'id': 'https://api.cognitive.microsoft.com/api/v7/#WebPages.5', 'name': 'Steve Jobs - forbes.com', 'url': 'https://www.forbes.com/profile/steve-jobs/', 'about': [{'name': 'Steve Jobs'}, {'name': 'Steve Jobs'}], 'isFamilyFriendly': True, 'displayUrl': 'https://www.forbes.com/profile/steve-jobs', 'snippet': 'Apple cofounder Steve Jobs finally succumbed to cancer at the age of 56 on October 5th, leaving behind a legacy that changed the computer, music, film and wireless industries.', 'dateLastCrawled': '2020-03-14T08:09:00.0000000Z', 'language': 'en', 'isNavigational': False}, {'id': 'https://api.cognitive.microsoft.com/api/v7/#WebPages.6', 'name': \"Steve Jobs' Widow Responds to Daughter's Shocking Claims ...\", 'url': 'https://people.com/human-interest/lisa-brennan-jobs-on-childhood-steve-jobs/', 'isFamilyFriendly': True, 'displayUrl': 'https://people.com/human-interest/lisa-brennan-jobs-on-childhood-steve-jobs', 'snippet': 'Steve Jobs\\'s daughter, Lisa Brennan-Jobs recalls her father saying she smelled \"like a toilet\" while on his deathbed and other shocking claims in her memoir', 'dateLastCrawled': '2020-03-12T00:21:00.0000000Z', 'language': 'en', 'isNavigational': False}, {'id': 'https://api.cognitive.microsoft.com/api/v7/#WebPages.7', 'name': 'Home | all about Steve Jobs.com', 'url': 'https://allaboutstevejobs.com/', 'about': [{'name': 'Steve Jobs'}, {'name': 'Steve Jobs'}], 'isFamilyFriendly': True, 'displayUrl': 'https://allaboutstevejobs.com', 'snippet': 'This website is a repository of all things Steve Jobs — biography, pictures, videos of his keynotes and demos, quotes, interviews — you name it.', 'dateLastCrawled': '2020-03-13T14:13:00.0000000Z', 'language': 'en', 'isNavigational': False}, {'id': 'https://api.cognitive.microsoft.com/api/v7/#WebPages.8', 'name': 'Steve Jobs Quotes (88 quotes)', 'url': 'https://www.goodreads.com/quotes/tag/steve-jobs', 'about': [{'name': 'Steve Jobs'}], 'isFamilyFriendly': True, 'displayUrl': 'https://www.goodreads.com/quotes/tag/steve-jobs', 'snippet': '88 quotes have been tagged as steve-jobs: Steve Jobs: ‘Don’t let the noise of others’ opinions drown out your own inner voice.[Stanford University com...', 'dateLastCrawled': '2020-03-11T12:46:00.0000000Z', 'language': 'en', 'isNavigational': False}, {'id': 'https://api.cognitive.microsoft.com/api/v7/#WebPages.9', 'contractualRules': [{'_type': 'ContractualRules/LicenseAttribution', 'targetPropertyName': 'description', 'targetPropertyIndex': 9, 'mustBeCloseToContent': True, 'license': {'name': 'CC-BY-SA', 'url': 'http://creativecommons.org/licenses/by-sa/3.0/'}, 'licenseNotice': 'Text under CC-BY-SA license'}], 'name': 'Steve Jobs (film) - Wikipedia', 'url': 'https://en.wikipedia.org/wiki/Steve_Jobs_(film)', 'about': [{'name': 'Steve Jobs'}, {'name': 'Steve Jobs'}], 'isFamilyFriendly': True, 'displayUrl': 'https://en.wikipedia.org/wiki/Steve_Jobs_(film)', 'snippet': 'Steve Jobs is a 2015 biographical drama film directed by Danny Boyle and written by Aaron Sorkin.Adapted from the 2011 biography by Walter Isaacson and interviews conducted by Sorkin, the film covers 14 years (1984–1998) in the life of Apple Inc. co-founder Steve Jobs.Jobs is portrayed by Michael Fassbender, with Kate Winslet, Seth Rogen, Katherine Waterston, Michael Stuhlbarg, and Jeff ...', 'dateLastCrawled': '2020-03-02T02:27:00.0000000Z', 'language': 'en', 'isNavigational': False}]}\n",
            "entities        : {'value': [{'id': 'https://api.cognitive.microsoft.com/api/v7/#Entities.0', 'contractualRules': [{'_type': 'ContractualRules/LicenseAttribution', 'targetPropertyName': 'description', 'mustBeCloseToContent': True, 'license': {'name': 'CC-BY-SA', 'url': 'http://creativecommons.org/licenses/by-sa/3.0/'}, 'licenseNotice': 'Text under CC-BY-SA license'}, {'_type': 'ContractualRules/LinkAttribution', 'targetPropertyName': 'description', 'mustBeCloseToContent': True, 'text': 'Wikipedia', 'url': 'http://en.wikipedia.org/wiki/Steve_Jobs'}, {'_type': 'ContractualRules/MediaAttribution', 'targetPropertyName': 'image', 'mustBeCloseToContent': True, 'url': 'http://en.wikipedia.org/wiki/Steve_Jobs'}], 'webSearchUrl': 'https://www.bing.com/entityexplore?q=Steve+Jobs&filters=sid:%22a92f6c87-d5f3-7bd6-c85c-f7e39061e30f%22&elv=AXXfrEiqqD9r3GuelwApulq1NFSukEOUiu!4Qw8EHu0ezSy9dCw6C7hFQDMmGJ!SH7r*hREH30quUurHFlyGBxZml6o9xzq0MlODXpmzQe74', 'name': 'Steve Jobs', 'image': {'name': 'Real artists ship.', 'thumbnailUrl': 'https://www.bing.com/th?id=AMMS_d5ca9bf45b9305531f04cbf28514ef3f&w=110&h=110&c=12&rs=1&qlt=80&cdv=1&pid=16.2', 'provider': [{'_type': 'Organization', 'url': 'http://en.wikipedia.org/wiki/Steve_Jobs'}], 'hostPageUrl': 'http://upload.wikimedia.org/wikipedia/commons/f/f5/Steve_Jobs_Headshot_2010-CROP2.jpg', 'width': 110, 'height': 110, 'sourceWidth': 474, 'sourceHeight': 757}, 'description': \"Steven Paul Jobs was an American business magnate, industrial designer, investor, and media proprietor. He was the chairman, chief executive officer, and co-founder of Apple Inc., the chairman and majority shareholder of Pixar, a member of The Walt Disney Company's board of directors following its acquisition of Pixar, and the founder, chairman, and CEO of NeXT. Jobs is widely recognized as a pioneer of the personal computer revolution of the 1970s and 1980s, along with Apple co-founder Steve Wozniak.\", 'entityPresentationInfo': {'entityScenario': 'DominantEntity', 'entityTypeHints': ['Person']}, 'bingId': 'a92f6c87-d5f3-7bd6-c85c-f7e39061e30f'}, {'id': 'https://api.cognitive.microsoft.com/api/v7/#Entities.1', 'contractualRules': [{'_type': 'ContractualRules/LicenseAttribution', 'targetPropertyName': 'description', 'mustBeCloseToContent': True, 'license': {'name': 'CC-BY-SA', 'url': 'http://creativecommons.org/licenses/by-sa/3.0/'}, 'licenseNotice': 'Text under CC-BY-SA license'}, {'_type': 'ContractualRules/LinkAttribution', 'targetPropertyName': 'description', 'mustBeCloseToContent': True, 'text': 'Wikipedia', 'url': 'http://en.wikipedia.org/wiki/Steve_Jobs_(film)'}, {'_type': 'ContractualRules/MediaAttribution', 'targetPropertyName': 'image', 'mustBeCloseToContent': True, 'url': 'http://en.wikipedia.org/wiki/Steve_Jobs_(film)'}], 'webSearchUrl': 'https://www.bing.com/entityexplore?q=Steve+Jobs&filters=sid:%22dd01fa82-34bb-1edc-2e04-2e57231dbd4d%22&elv=AXXfrEiqqD9r3GuelwApulq1NFSukEOUiu!4Qw8EHu0ezSy9dCw6C7hFQDMmGJ!SH7r*hREH30quUurHFlyGBxZml6o9xzq0MlODXpmzQe74', 'name': 'Steve Jobs', 'url': 'http://www.stevejobsthefilm.com/', 'image': {'name': 'Steve Jobs', 'thumbnailUrl': 'https://www.bing.com/th?id=AMMS_275a737fee6a575c7a9b9e3a8def80f3&w=50&h=50&c=7&rs=1&qlt=80&cdv=1&pid=16.1', 'provider': [{'_type': 'Organization', 'url': 'http://en.wikipedia.org/wiki/Steve_Jobs_(film)'}], 'hostPageUrl': 'http://upload.wikimedia.org/wikipedia/en/a/aa/SteveJobsposter.jpg', 'width': 72, 'height': 72, 'sourceWidth': 250, 'sourceHeight': 396}, 'description': 'Steve Jobs is a 2015 biographical drama film directed by Danny Boyle and written by Aaron Sorkin. Adapted from the 2011 biography by Walter Isaacson and interviews conducted by Sorkin, the film covers 14 years in the life of Apple Inc. co-founder Steve Jobs. Jobs is portrayed by Michael Fassbender, with Kate Winslet, Seth Rogen, Katherine Waterston, Michael Stuhlbarg, and Jeff Daniels in supporting roles.', 'entityPresentationInfo': {'entityScenario': 'DisambiguationItem', 'entityTypeHints': ['Generic']}, 'bingId': 'dd01fa82-34bb-1edc-2e04-2e57231dbd4d'}]}\n",
            "images          : {'id': 'https://api.cognitive.microsoft.com/api/v7/#Images', 'readLink': 'https://api.cognitive.microsoft.com/api/v7/images/search?q=steve+jobs&qpvt=steve+jobs', 'webSearchUrl': 'https://www.bing.com/images/search?q=steve+jobs&qpvt=steve+jobs', 'isFamilyFriendly': True, 'value': [{'webSearchUrl': 'https://www.bing.com/images/search?q=steve+jobs&id=251B7ED717830E4E1F6B6BE64CBFF69956268C3D&FORM=IARRTH', 'name': 'Steve Jobs - Simple English Wikipedia, the free encyclopedia', 'thumbnailUrl': 'https://tse1.mm.bing.net/th?id=OIP.Qij_sECZN-XPW4Zb_SF8dgHaKi&pid=Api', 'contentUrl': 'https://upload.wikimedia.org/wikipedia/commons/8/82/Steve_Jobs_with_red_shawl_edit.jpg', 'hostPageUrl': 'https://simple.wikipedia.org/wiki/Steve_Jobs', 'contentSize': '529870 B', 'encodingFormat': 'jpeg', 'hostPageDisplayUrl': 'https://simple.wikipedia.org/wiki/Steve_Jobs', 'width': 684, 'height': 974, 'thumbnail': {'width': 474, 'height': 674}}, {'webSearchUrl': 'https://www.bing.com/images/search?q=steve+jobs&id=BA71EBA845B6FB509F45BA93F4F0E70A3C8B3770&FORM=IARRTH', 'name': 'Steve Jobs, 1955-2011 - The Verge', 'thumbnailUrl': 'https://tse1.mm.bing.net/th?id=OIP.VJQhanK3SjxTPT4Ifd0MSgHaE8&pid=Api', 'contentUrl': 'https://cdn.vox-cdn.com/thumbor/WqMY2QINJvS9H0tqdrFBXsg2ghk=/0x86:706x557/1200x800/filters:focal(0x86:706x557)/cdn.vox-cdn.com/imported_assets/847184/stevejobs.png', 'hostPageUrl': 'https://www.theverge.com/2011/10/05/steve-jobs-1955-2011-2', 'contentSize': '94443 B', 'encodingFormat': 'jpeg', 'hostPageDisplayUrl': 'https://www.theverge.com/2011/10/05/steve-jobs-1955-2011-2', 'width': 1200, 'height': 800, 'thumbnail': {'width': 474, 'height': 316}}, {'webSearchUrl': 'https://www.bing.com/images/search?q=steve+jobs&id=1157A0B74CAC2D17AE0B80A0C7CC29766E974EFA&FORM=IARRTH', 'name': \"Steve Jobs's 10 Principles to Success That Everyone Needs ...\", 'thumbnailUrl': 'https://tse1.mm.bing.net/th?id=OIP.uEttdIXUOA9jQeCLoxdctQHaFd&pid=Api', 'contentUrl': 'http://cdn-media-1.lifehack.org/wp-content/files/2014/11/o-STEVE-JOBS-facebook.jpg', 'hostPageUrl': 'https://www.bing.com/www.lifehack.org/articles/productivity/10-success-principles-can-learn-from-steve-jobs...', 'contentSize': '146862 B', 'encodingFormat': 'jpeg', 'hostPageDisplayUrl': 'www.lifehack.org/articles/productivity/10-success-principles-can-learn-from-steve-jobs...', 'width': 1536, 'height': 1132, 'thumbnail': {'width': 474, 'height': 349}}, {'webSearchUrl': 'https://www.bing.com/images/search?q=steve+jobs&id=CB5BB2968424187039733A005A43BFC3B9AB6891&FORM=IARRTH', 'name': 'Steve Jobs Biographies Duel Over Soul of the Man | Time', 'thumbnailUrl': 'https://tse1.mm.bing.net/th?id=OIP.-BuXwS7e2fqidPqT5WIiygEsDJ&pid=Api', 'contentUrl': 'https://timedotcom.files.wordpress.com/2014/11/steve-jobs-apple.jpg', 'hostPageUrl': 'https://www.bing.com/time.com/3757765/steve-jobs-biography', 'contentSize': '490045 B', 'encodingFormat': 'jpeg', 'hostPageDisplayUrl': 'time.com/3757765/steve-jobs-biography', 'width': 3000, 'height': 2014, 'thumbnail': {'width': 474, 'height': 318}}, {'webSearchUrl': 'https://www.bing.com/images/search?q=steve+jobs&id=D69C787E74B461DE61673A6DCFC332418934A800&FORM=IARRTH', 'name': 'Somewhere...Steve Jobs is Smiling - Strata-gee.com', 'thumbnailUrl': 'https://tse1.mm.bing.net/th?id=OIP.VnYWJTdm2pVZS_HPjr36_wHaGx&pid=Api', 'contentUrl': 'http://www.strata-gee.com/wp-content/uploads/2013/09/JobsSmiling.jpg', 'hostPageUrl': 'https://www.bing.com/www.strata-gee.com/somewhere-steve-jobs-smiling', 'contentSize': '2236079 B', 'encodingFormat': 'jpeg', 'hostPageDisplayUrl': 'www.strata-gee.com/somewhere-steve-jobs-smiling', 'width': 2370, 'height': 2166, 'thumbnail': {'width': 474, 'height': 433}}, {'webSearchUrl': 'https://www.bing.com/images/search?q=steve+jobs&id=3F710F1D36B749FB9AF0F54038BA738C68D8501A&FORM=IARRTH', 'name': 'Steve Jobs and Apple: A life - Steve Jobs and Apple: A ...', 'thumbnailUrl': 'https://tse1.mm.bing.net/th?id=OIP.wvwNxJBc-Hhp7ZKKAg-bBAHaFj&pid=Api', 'contentUrl': 'http://cbsnews1.cbsistatic.com/hub/i/2012/06/22/2b760822-8baa-11e2-9400-029118418759/SteveJobs_Video1.jpg', 'hostPageUrl': 'https://www.bing.com/www.cbsnews.com/media/steve-jobs-and-apple-a-life-57526300/2', 'contentSize': '395615 B', 'encodingFormat': 'jpeg', 'hostPageDisplayUrl': 'www.cbsnews.com/media/steve-jobs-and-apple-a-life-57526300/2', 'width': 1280, 'height': 960, 'thumbnail': {'width': 474, 'height': 355}}, {'webSearchUrl': 'https://www.bing.com/images/search?q=steve+jobs&id=D4EE71643FC07B57E0DD3964D9D3D5C73DFC2CE9&FORM=IARRTH', 'name': '10 of the Most Inspiring Steve Jobs Quotes', 'thumbnailUrl': 'https://tse1.mm.bing.net/th?id=OIP.ffEwLVb4dcIdbiNzOL4OQAHaEo&pid=Api', 'contentUrl': 'http://static.parade.com/wp-content/uploads/2015/10/steve-jobs-ftr.jpg', 'hostPageUrl': 'https://www.bing.com/parade.com/427960/alison-abbey/10-of-the-most-inspiring-steve-jobs-quotes', 'contentSize': '47658 B', 'encodingFormat': 'jpeg', 'hostPageDisplayUrl': 'parade.com/427960/alison-abbey/10-of-the-most-inspiring-steve-jobs-quotes', 'width': 1240, 'height': 775, 'thumbnail': {'width': 474, 'height': 296}}, {'webSearchUrl': 'https://www.bing.com/images/search?q=steve+jobs&id=54D72B8BFE6D8832ADABDB549B13A5002962CE2D&FORM=IARRTH', 'name': 'Steve Jobs: ‘F*ck Neil Young’', 'thumbnailUrl': 'https://tse1.mm.bing.net/th?id=OIP.4E21QRuCrniGo-Gs4CVWrQHaE8&pid=Api', 'contentUrl': 'https://img.thedailybeast.com/image/upload/v1492185173/articles/2015/03/24/steve-jobs-f-ck-neil-young/150324-oconnor-jobs-tease_omdldo.jpg', 'hostPageUrl': 'https://www.thedailybeast.com/steve-jobs-fck-neil-young', 'contentSize': '343935 B', 'encodingFormat': 'jpeg', 'hostPageDisplayUrl': 'https://www.thedailybeast.com/steve-jobs-fck-neil-young', 'width': 2560, 'height': 1707, 'thumbnail': {'width': 474, 'height': 316}}, {'webSearchUrl': 'https://www.bing.com/images/search?q=steve+jobs&id=409D8496B851154E817826A5304F18191C3DA737&FORM=IARRTH', 'name': 'Book Review: Presentation Secrets of Steve Jobs – Matthew ...', 'thumbnailUrl': 'https://tse1.mm.bing.net/th?id=OIP.vv-6TFdgOo-_5LkFUqTnNwHaFP&pid=Api', 'contentUrl': 'https://matthewhanzel.files.wordpress.com/2011/10/115285792.jpg', 'hostPageUrl': 'https://matthewhanzel.com/2011/10/25/book-review-presentation-secrets-of-steve-jobs', 'contentSize': '790228 B', 'encodingFormat': 'jpeg', 'hostPageDisplayUrl': 'https://matthewhanzel.com/2011/10/25/book-review-presentation-secrets-of-steve-jobs', 'width': 3000, 'height': 2124, 'thumbnail': {'width': 474, 'height': 335}}]}\n",
            "news            : {'id': 'https://api.cognitive.microsoft.com/api/v7/#News', 'readLink': 'https://api.cognitive.microsoft.com/api/v7/news/search?q=Steve+Jobs', 'value': [{'contractualRules': [{'_type': 'ContractualRules/TextAttribution', 'text': 'Business Insider'}], 'name': \"Inside the Apple Museum, the huge private shrine to Apple products that will soon have a replica of Steve Jobs' garage\", 'url': 'https://www.businessinsider.com/apple-steve-jobs-museum-prague-iphone-ipad-ipod-history-2020', 'image': {'contentUrl': 'https://i.insider.com/5e6b919e84159f0d3a5842f3?width=1200&format=jpeg', 'thumbnail': {'contentUrl': 'https://www.bing.com/th?id=ON.90D1FCA6B728739E95A1F60FF731BA0D&pid=News', 'width': 700, 'height': 350}}, 'description': \"The Apple Museum says it's the biggest private Apple exhibition in the world.\", 'provider': [{'_type': 'Organization', 'name': 'Business Insider', 'image': {'thumbnail': {'contentUrl': 'https://www.bing.com/th?id=AMMS_b3ffab7279c7b6b448383d03bb5daec1&pid=news'}}}], 'datePublished': '2020-03-14T10:04:00.0000000Z', 'category': 'ScienceAndTechnology'}, {'contractualRules': [{'_type': 'ContractualRules/TextAttribution', 'text': 'Inc'}], 'name': \"Steve Jobs Hated Working From Home But That's Only Half the Picture\", 'url': 'https://www.inc.com/geoffrey-james/steve-jobs-hated-working-from-home-but-thats-only-half-picture.html', 'image': {'contentUrl': 'https://www.incimages.com/uploaded_files/image/970x450/getty_96211011_2000134813806405780_414357.jpg', 'thumbnail': {'contentUrl': 'https://www.bing.com/th?id=ON.0F82F6037FAFCE93241F381D41E68432&pid=News', 'width': 700, 'height': 324}}, 'description': 'A recent article in the New York Times pointed out that Steve Jobs wasn\\'t a big fan of Working Fom Home (WFH). Here\\'s what Jobs said: \"Creativity comes from spontaneous meetings, from random discussions. You run into someone, you ask what they\\'re doing, you say \\'Wow,\\' and soon you\\'re cooking up all sorts of ideas.\" Since that type of ...', 'provider': [{'_type': 'Organization', 'name': 'Inc', 'image': {'thumbnail': {'contentUrl': 'https://www.bing.com/th?id=AR_feee8e896bc3177f8b7413ef1b913c3d&pid=news'}}}], 'datePublished': '2020-03-12T11:49:00.0000000Z'}, {'contractualRules': [{'_type': 'ContractualRules/TextAttribution', 'text': 'CNBC'}], 'name': \"How this 'profound' lesson from Steve Jobs shaped Laurene Powell Jobs' business\", 'url': 'https://www.cnbc.com/2020/03/03/lesson-steve-jobs-shared-with-wife-laurene-powell-jobs.html', 'image': {'contentUrl': 'https://image.cnbcfm.com/api/v1/image/106420188-1583178383555gettyimages-850325410.jpeg?v=1583179820', 'thumbnail': {'contentUrl': 'https://www.bing.com/th?id=ON.3AD68DCDB77663395CEB3B72A40E8815&pid=News', 'width': 700, 'height': 536}}, 'description': 'Laurene Powell Jobs spoke about the \"very beautiful and rich connection\" she shared with her late husband, Apple founder Steve Jobs, in an interview with the New York Times. The most important lesson that he taught her?', 'provider': [{'_type': 'Organization', 'name': 'CNBC', 'image': {'thumbnail': {'contentUrl': 'https://www.bing.com/th?id=AR_4efc5b36002beed4d9e08a53512d7e9e&pid=news'}}}], 'datePublished': '2020-03-03T23:52:00.0000000Z', 'video': {'name': \"Bill and Melinda Gates say it's unfair that they have so much wealth\", 'thumbnailUrl': 'https://www.bing.com/th?id=ON.3307F9C1E758E3E545EEDBDDFE9E8909&pid=News', 'embedHtml': '<iframe src=\"https://player.cnbc.com/p/gZWlPC/cnbc_global?playertype=synd&byGuid=3000692048\" width=\"530\" height=\"298\" type=\"application/x-shockwave-flash\" allowFullScreen=\"true\" bgcolor=\"#131313\" scrolling=\"no\"></iframe>', 'allowHttpsEmbed': True, 'thumbnail': {'width': 480, 'height': 270}}, 'category': 'ScienceAndTechnology'}, {'contractualRules': [{'_type': 'ContractualRules/TextAttribution', 'text': 'Inc. on MSN.com'}], 'name': \"Steve Jobs Didn't Just Know How to Hold Important Meetings. He Also Knew Where\", 'url': 'https://www.msn.com/en-us/lifestyle/career/steve-jobs-didnt-just-know-how-to-hold-important-meetings-he-also-knew-where/ar-BB10JGLh', 'image': {'contentUrl': 'https://img-s-msn-com.akamaized.net/tenant/amp/entityid/BB10JAMT.img?h=315&w=600&m=6&q=60&o=t&l=f&f=jpg', 'thumbnail': {'contentUrl': 'https://www.bing.com/th?id=ON.2AA0AC10D299F9223931C161BC7B943D&pid=News', 'width': 600, 'height': 315}}, 'description': 'Think walking meetings are the latest dopey management trend? Science says think again. You need to meet with one or two people. To make an important decision. To set a new direction. To seize an opportunity,', 'provider': [{'_type': 'Organization', 'name': 'Inc. on MSN.com', 'image': {'thumbnail': {'contentUrl': 'https://www.bing.com/th?id=AR_feee8e896bc3177f8b7413ef1b913c3d&pid=news'}}}], 'datePublished': '2020-03-03T14:15:00.0000000Z', 'category': 'Health'}, {'contractualRules': [{'_type': 'ContractualRules/TextAttribution', 'text': 'YAHOO!'}], 'name': \"Steve Jobs' widow vows Apple co-founder's fortune will be given away\", 'url': 'https://finance.yahoo.com/news/steve-jobs-apos-widow-vows-171119955.html', 'description': 'Laurene Powell Jobs, the widow of late Apple co-founder Steve Jobs, joined one of the world’s most exclusive groups when she inherited her husband’s multibillion-dollar fortune in 2011 after the visionary’s death in 2011.', 'provider': [{'_type': 'Organization', 'name': 'YAHOO!', 'image': {'thumbnail': {'contentUrl': 'https://www.bing.com/th?id=AR_e1eef5681737e5676d7a09990b13411a&pid=news'}}}], 'datePublished': '2020-03-06T14:44:00.0000000Z', 'category': 'ScienceAndTechnology'}]}\n",
            "relatedSearches : {'id': 'https://api.cognitive.microsoft.com/api/v7/#RelatedSearches', 'value': [{'text': 'the death of steve jobs', 'displayText': 'the death of steve jobs', 'webSearchUrl': 'https://www.bing.com/search?q=the+death+of+steve+jobs'}, {'text': 'steve jobs movie biography', 'displayText': 'steve jobs movie biography', 'webSearchUrl': 'https://www.bing.com/search?q=steve+jobs+movie+biography'}, {'text': 'steve jobs brief biography', 'displayText': 'steve jobs brief biography', 'webSearchUrl': 'https://www.bing.com/search?q=steve+jobs+brief+biography'}, {'text': 'steve jobs daughter', 'displayText': 'steve jobs daughter', 'webSearchUrl': 'https://www.bing.com/search?q=steve+jobs+daughter'}, {'text': 'why did steve jobs start apple', 'displayText': 'why did steve jobs start apple', 'webSearchUrl': 'https://www.bing.com/search?q=why+did+steve+jobs+start+apple'}, {'text': 'all about steve jobs', 'displayText': 'all about steve jobs', 'webSearchUrl': 'https://www.bing.com/search?q=all+about+steve+jobs'}, {'text': 'bio of steve jobs', 'displayText': 'bio of steve jobs', 'webSearchUrl': 'https://www.bing.com/search?q=bio+of+steve+jobs'}, {'text': 'steve jobs parents', 'displayText': 'steve jobs parents', 'webSearchUrl': 'https://www.bing.com/search?q=steve+jobs+parents'}]}\n",
            "videos          : {'id': 'https://api.cognitive.microsoft.com/api/v7/#Videos', 'readLink': 'https://api.cognitive.microsoft.com/api/v7/videos/search?q=steve+jobs', 'webSearchUrl': 'https://www.bing.com/videos/search?q=steve+jobs', 'isFamilyFriendly': True, 'value': [{'webSearchUrl': 'https://www.bing.com/videos/search?q=steve%20jobs&view=detail&mid=388D51581ECEAF5EE1F6388D51581ECEAF5EE1F6', 'name': 'Steve Jobs: My 5 Principles For Success | Inc.', 'description': 'Steve Jobs was one of the most innovative leaders of our time, creating iconic companies like Apple, Pixar and NeXT. #SteveJobs #Apple #Success Get social with Inc. on: Facebook: https://www.facebook.com/Inc Twitter: https://twitter.com/Inc Linkedin: https://www.linkedin.com/company/inc-... Instagram: https://www.instagram.com/incmagazine ...', 'thumbnailUrl': 'https://tse3.mm.bing.net/th?id=OVP.BDAINdeh1qCbzEbc3e1IIQEsDh&pid=Api', 'datePublished': '2019-08-05T13:00:05.0000000', 'publisher': [{'name': 'YouTube'}], 'isAccessibleForFree': True, 'contentUrl': 'https://www.youtube.com/watch?v=LcmS0y7ZOXI', 'hostPageUrl': 'https://www.youtube.com/watch?v=LcmS0y7ZOXI', 'encodingFormat': 'mp4', 'hostPageDisplayUrl': 'https://www.youtube.com/watch?v=LcmS0y7ZOXI', 'width': 1280, 'height': 720, 'duration': 'PT2M20S', 'embedHtml': '<iframe width=\"1280\" height=\"720\" src=\"http://www.youtube.com/embed/LcmS0y7ZOXI?autoplay=1\" frameborder=\"0\" allowfullscreen></iframe>', 'allowHttpsEmbed': True, 'viewCount': 38717, 'thumbnail': {'width': 160, 'height': 120}, 'allowMobileEmbed': True, 'isSuperfresh': False}, {'webSearchUrl': 'https://www.bing.com/videos/search?q=steve%20jobs&view=detail&mid=850711BC40C6BA08B54E850711BC40C6BA08B54E', 'name': 'Watch Steve Jobs explain the iPhone in 2007 CNBC interview', 'description': 'Just after his famous keynote address in 2007, Steve Jobs sat down with CNBC to explain why the iPhone would transform the \"handset\" industry. \"We think what we\\'ve done, is to reinvent the phone,\" he said. CNBC pulls it out of the Time Capsule.', 'thumbnailUrl': 'https://tse3.mm.bing.net/th?id=OVP.ZGOox1r90uasMcpt_0nKuAEsCo&pid=Api', 'datePublished': '2018-10-30T04:22:48.0000000', 'publisher': [{'name': 'CNBC'}], 'isAccessibleForFree': True, 'contentUrl': 'https://www.cnbc.com/video/2018/10/30/watch-steve-jobs-explain-the-iphone-in-2007-cnbc...', 'hostPageUrl': 'https://www.cnbc.com/video/2018/10/30/watch-steve-jobs-explain-the-iphone-in-2007-cnbc...', 'encodingFormat': 'mp4', 'hostPageDisplayUrl': 'https://www.cnbc.com/video/2018/10/30/watch-steve-jobs-explain-the-iphone-in-2007-cnbc-interview.html', 'width': 534, 'height': 300, 'duration': 'PT3M57S', 'motionThumbnailUrl': 'https://tse3.mm.bing.net/th?id=OM.TrUIusZAvBEHhQ_1581623616&pid=Api', 'embedHtml': '<iframe src=\"https://player.cnbc.com/p/gZWlPC/cnbc_global?playertype=synd&byGuid=7000048275\" width=\"530\" height=\"298\" type=\"application/x-shockwave-flash\" allowFullScreen=\"true\" bgcolor=\"#131313\" scrolling=\"no\"></iframe>', 'allowHttpsEmbed': True, 'thumbnail': {'width': 160, 'height': 89}, 'allowMobileEmbed': True, 'isSuperfresh': False}, {'webSearchUrl': 'https://www.bing.com/videos/search?q=steve%20jobs&view=detail&mid=179C99F6C682D0504E27179C99F6C682D0504E27', 'name': 'Steve Wozniak: How Steve Jobs would react if he could see Apple today', 'description': 'Exclusive interview with Apple co-founder Steve Wozniak in Denmark, November 2019. About the state of Apple, modern technology, entrepreneurship, AI, Internet of Things and Steve Jobs. Contact: Lasse Ladefoged, lala@borsen.dk', 'thumbnailUrl': 'https://tse3.mm.bing.net/th?id=OVP.Fxn6r2NmDrQqs-gh4BjgcwEsDh&pid=Api', 'datePublished': '2019-11-21T13:53:21.0000000', 'publisher': [{'name': 'YouTube'}], 'isAccessibleForFree': True, 'contentUrl': 'https://www.youtube.com/watch?v=PhBVRFKVGxU', 'hostPageUrl': 'https://www.youtube.com/watch?v=PhBVRFKVGxU', 'encodingFormat': 'mp4', 'hostPageDisplayUrl': 'https://www.youtube.com/watch?v=PhBVRFKVGxU', 'width': 1280, 'height': 720, 'duration': 'PT11M50S', 'motionThumbnailUrl': 'https://tse3.mm.bing.net/th?id=OM.J05Q0ILG9pmcFw_1582317153&pid=Api', 'embedHtml': '<iframe width=\"1280\" height=\"720\" src=\"http://www.youtube.com/embed/PhBVRFKVGxU?autoplay=1\" frameborder=\"0\" allowfullscreen></iframe>', 'allowHttpsEmbed': True, 'viewCount': 341053, 'thumbnail': {'width': 160, 'height': 120}, 'allowMobileEmbed': True, 'isSuperfresh': False}, {'webSearchUrl': 'https://www.bing.com/videos/search?q=steve%20jobs&view=detail&mid=2623CDBD88FB8211D1B12623CDBD88FB8211D1B1', 'name': 'Steve Jobs Lived By These 5 Philosophies for Success. You Can Too | Inc.', 'description': 'Visionary entrepreneur Steve Jobs believed in embracing failure and celebrating the small victories. Here are the 5 philosophies he always lived by. #SteveJobs #Apple #Success Get social with Inc. on: Facebook: https://www.facebook.com/Inc Twitter: https://twitter.com/Inc Linkedin: https://www.linkedin.com/company/inc-... Instagram: https://www ...', 'thumbnailUrl': 'https://tse3.mm.bing.net/th?id=OVP.w22OCIanoy3kZ0fm0-ThswEsDh&pid=Api', 'datePublished': '2019-08-19T13:00:12.0000000', 'publisher': [{'name': 'YouTube'}], 'isAccessibleForFree': True, 'contentUrl': 'https://www.youtube.com/watch?v=jcFbGsl8DDI', 'hostPageUrl': 'https://www.youtube.com/watch?v=jcFbGsl8DDI', 'encodingFormat': 'mp4', 'hostPageDisplayUrl': 'https://www.youtube.com/watch?v=jcFbGsl8DDI', 'width': 1280, 'height': 720, 'duration': 'PT2M22S', 'motionThumbnailUrl': 'https://tse3.mm.bing.net/th?id=OM.sdERgvuIvc0jJg_1583925985&pid=Api', 'embedHtml': '<iframe width=\"1280\" height=\"720\" src=\"http://www.youtube.com/embed/jcFbGsl8DDI?autoplay=1\" frameborder=\"0\" allowfullscreen></iframe>', 'allowHttpsEmbed': True, 'viewCount': 5193, 'thumbnail': {'width': 160, 'height': 120}, 'allowMobileEmbed': True, 'isSuperfresh': False}, {'webSearchUrl': 'https://www.bing.com/videos/search?q=steve%20jobs&view=detail&mid=0EC4369DADE90B877A4F0EC4369DADE90B877A4F', 'name': \"Bill Gates calls Steve Jobs a 'wizard' who saved Apple\", 'description': 'Steve Jobs was a wizard who \"cast spells on people\" to help keep Apple afloat during the company\\'s darkest days, according to longtime rival Bill Gates. The Microsoft (MSFT) founder discussed his and Jobs\\' leadership styles with CNN\\'s Fareed Zakaria Sunday. Both men are known for being tough leaders who foster an intense workplace culture ...', 'thumbnailUrl': 'https://tse4.mm.bing.net/th?id=OVP.-_gUUW2WnaQSzfxiL0LWMAHfFn&pid=Api', 'datePublished': '2019-07-08T21:10:20.0000000', 'publisher': [{'name': 'YouTube'}], 'isAccessibleForFree': True, 'contentUrl': 'https://www.youtube.com/watch?v=ZeKSDy15q-I', 'hostPageUrl': 'https://www.youtube.com/watch?v=ZeKSDy15q-I', 'encodingFormat': 'mp4', 'hostPageDisplayUrl': 'https://www.youtube.com/watch?v=ZeKSDy15q-I', 'width': 1280, 'height': 720, 'duration': 'PT4M47S', 'embedHtml': '<iframe width=\"1280\" height=\"720\" src=\"http://www.youtube.com/embed/ZeKSDy15q-I?autoplay=1\" frameborder=\"0\" allowfullscreen></iframe>', 'allowHttpsEmbed': True, 'viewCount': 354818, 'thumbnail': {'width': 160, 'height': 119}, 'allowMobileEmbed': True, 'isSuperfresh': False}, {'webSearchUrl': 'https://www.bing.com/videos/search?q=steve%20jobs&view=detail&mid=D602D7437ED9A047CC01D602D7437ED9A047CC01', 'name': 'Steve Jobs MIT Class: What he learnt after he was fired from Apple?', 'description': 'What Steve Jobs learned after he was fired from Apple', 'thumbnailUrl': 'https://tse2.mm.bing.net/th?id=OVP.bIorgh-do54m9CGVr38SBAEsDh&pid=Api', 'datePublished': '2018-04-12T18:31:47.0000000', 'publisher': [{'name': 'YouTube'}], 'isAccessibleForFree': True, 'contentUrl': 'https://www.youtube.com/watch?v=YXUhLbV8Nrg', 'hostPageUrl': 'https://www.youtube.com/watch?v=YXUhLbV8Nrg', 'encodingFormat': 'mp4', 'hostPageDisplayUrl': 'https://www.youtube.com/watch?v=YXUhLbV8Nrg', 'width': 1280, 'height': 720, 'duration': 'PT1H12M54S', 'motionThumbnailUrl': 'https://tse2.mm.bing.net/th?id=OM.AcxHoNl-Q9cC1g_1584093655&pid=Api', 'embedHtml': '<iframe width=\"1280\" height=\"720\" src=\"http://www.youtube.com/embed/YXUhLbV8Nrg?autoplay=1\" frameborder=\"0\" allowfullscreen></iframe>', 'allowHttpsEmbed': True, 'viewCount': 128597, 'thumbnail': {'width': 160, 'height': 120}, 'allowMobileEmbed': True, 'isSuperfresh': False}, {'webSearchUrl': 'https://www.bing.com/videos/search?q=steve%20jobs&view=detail&mid=891213E359CCDE641486891213E359CCDE641486', 'name': 'Steve Jobs Worn Shirt is in this iPhone', 'description': \"This is the iPhone 11 Pro Superior Steve Jobs. Yes, it has an actual piece of Steve Jobs' shirt embedded in it. https://caviar.global/caviar-iphone-11/iphone-11-pro-superior-jobs/ FOLLOW ME IN THESE PLACES FOR UPDATES Twitter - http://twitter.com/unboxtherapy Facebook - http://facebook.com/unboxtherapy Instagram - http://instagram.com/unboxtherapy\", 'thumbnailUrl': 'https://tse2.mm.bing.net/th?id=OVP.C3fF6qgDOiO3F35tU-32ugEsDh&pid=Api', 'datePublished': '2019-11-22T16:59:14.0000000', 'publisher': [{'name': 'YouTube'}], 'isAccessibleForFree': True, 'contentUrl': 'https://www.youtube.com/watch?v=dDocQ6Qba8g', 'hostPageUrl': 'https://www.youtube.com/watch?v=dDocQ6Qba8g', 'encodingFormat': 'mp4', 'hostPageDisplayUrl': 'https://www.youtube.com/watch?v=dDocQ6Qba8g', 'width': 1280, 'height': 720, 'duration': 'PT10M47S', 'motionThumbnailUrl': 'https://tse2.mm.bing.net/th?id=OM.hhRk3sxZ4xMSiQ_1582640293&pid=Api', 'embedHtml': '<iframe width=\"1280\" height=\"720\" src=\"http://www.youtube.com/embed/dDocQ6Qba8g?autoplay=1\" frameborder=\"0\" allowfullscreen></iframe>', 'allowHttpsEmbed': True, 'viewCount': 5572283, 'thumbnail': {'width': 160, 'height': 120}, 'allowMobileEmbed': True, 'isSuperfresh': False}, {'webSearchUrl': 'https://www.bing.com/videos/search?q=steve%20jobs&view=detail&mid=F3946EA3ACE7030648BBF3946EA3ACE7030648BB', 'name': \"Why Steve Jobs Didn't Have a License Plate\", 'description': \"What do you know about Steve Jobs, the legendary co-founder of Apple, who created one of the greatest gadgets of our time? Turns out, he was a man of mystery, and in the most literal sense of the word. Just think about it, he'd been driving a car around Silicon Valley without a license plate for years on end! That meant breaking the law, which ...\", 'thumbnailUrl': 'https://tse4.mm.bing.net/th?id=OVP.1B4U0TLT3kMG2SMloEhDPAEsDh&pid=Api', 'datePublished': '2019-10-10T17:00:11.0000000', 'publisher': [{'name': 'YouTube'}], 'isAccessibleForFree': True, 'contentUrl': 'https://www.youtube.com/watch?v=bKsDLW9akPo', 'hostPageUrl': 'https://www.youtube.com/watch?v=bKsDLW9akPo', 'encodingFormat': 'mp4', 'hostPageDisplayUrl': 'https://www.youtube.com/watch?v=bKsDLW9akPo', 'width': 1280, 'height': 720, 'duration': 'PT9M10S', 'motionThumbnailUrl': 'https://tse4.mm.bing.net/th?id=OM.u0gGA-eso26U8w_1581441457&pid=Api', 'embedHtml': '<iframe width=\"1280\" height=\"720\" src=\"http://www.youtube.com/embed/bKsDLW9akPo?autoplay=1\" frameborder=\"0\" allowfullscreen></iframe>', 'allowHttpsEmbed': True, 'viewCount': 1927182, 'thumbnail': {'width': 160, 'height': 120}, 'allowMobileEmbed': True, 'isSuperfresh': False}, {'webSearchUrl': 'https://www.bing.com/videos/search?q=steve%20jobs&view=detail&mid=6843BFF961C7F4093CC66843BFF961C7F4093CC6', 'name': 'How Steve Jobs Saved Pixar from Bankruptcy', 'description': 'Audio Book: https://goo.gl/p8auh3 Amazon US link: http://bit.ly/NewThinkingbook Amazon India Link: https://goo.gl/qJCC1T Amazon UK link: https://goo.gl/RBxisf Ebook on Google Play: http://bit.ly/NewThinkingGooglePlay Subscribe here: https://goo.gl/9FS8uF Check out the previous episode: Become a Patron!: https://www.patreon.com/ColdFusion_TV CF ...', 'thumbnailUrl': 'https://tse1.mm.bing.net/th?id=OVP.G08CpmdXk2gkZAKt7BDSCwEsDh&pid=Api', 'datePublished': '2019-08-04T20:04:19.0000000', 'publisher': [{'name': 'YouTube'}], 'isAccessibleForFree': True, 'contentUrl': 'https://www.youtube.com/watch?v=nmwv0IGO3vw', 'hostPageUrl': 'https://www.youtube.com/watch?v=nmwv0IGO3vw', 'encodingFormat': 'mp4', 'hostPageDisplayUrl': 'https://www.youtube.com/watch?v=nmwv0IGO3vw', 'width': 1280, 'height': 720, 'duration': 'PT13M4S', 'embedHtml': '<iframe width=\"1280\" height=\"720\" src=\"http://www.youtube.com/embed/nmwv0IGO3vw?autoplay=1\" frameborder=\"0\" allowfullscreen></iframe>', 'allowHttpsEmbed': True, 'viewCount': 333584, 'thumbnail': {'width': 160, 'height': 120}, 'allowMobileEmbed': True, 'isSuperfresh': False}, {'webSearchUrl': 'https://www.bing.com/videos/search?q=steve%20jobs&view=detail&mid=CC9D148C0C1C3AC54EB7CC9D148C0C1C3AC54EB7', 'name': 'Steve Jobs Would LOVE the Apple Pencil', 'description': \"Whenever I do a video about the iPad or Apple pencil I know I'm going to get comments about how much Steve Jobs would have hated it. I'm not so sure, in this video I dig a little deeper and try to figure out why he hated styluses. EMAIL NEWSLETTER: http://eepurl.com/b-YDej Get Discounts to All My Courses! http://brad.site/learn ...\", 'thumbnailUrl': 'https://tse2.mm.bing.net/th?id=OVP.WM-ae4FLi3aoYsb7PkOKaAEsDh&pid=Api', 'datePublished': '2019-07-01T13:16:39.0000000', 'publisher': [{'name': 'YouTube'}], 'isAccessibleForFree': True, 'contentUrl': 'https://www.youtube.com/watch?v=BZ-Vvl9_WiU', 'hostPageUrl': 'https://www.youtube.com/watch?v=BZ-Vvl9_WiU', 'encodingFormat': 'mp4', 'hostPageDisplayUrl': 'https://www.youtube.com/watch?v=BZ-Vvl9_WiU', 'width': 1280, 'height': 720, 'duration': 'PT12M58S', 'motionThumbnailUrl': 'https://tse2.mm.bing.net/th?id=OM.t07FOhwMjBSdzA_1579833050&pid=Api', 'embedHtml': '<iframe width=\"1280\" height=\"720\" src=\"http://www.youtube.com/embed/BZ-Vvl9_WiU?autoplay=1\" frameborder=\"0\" allowfullscreen></iframe>', 'allowHttpsEmbed': True, 'viewCount': 31582, 'thumbnail': {'width': 160, 'height': 120}, 'allowMobileEmbed': True, 'isSuperfresh': False}], 'scenario': 'List'}\n",
            "rankingResponse : {'mainline': {'items': [{'answerType': 'WebPages', 'resultIndex': 0, 'value': {'id': 'https://api.cognitive.microsoft.com/api/v7/#WebPages.0'}}, {'answerType': 'News', 'value': {'id': 'https://api.cognitive.microsoft.com/api/v7/#News'}}, {'answerType': 'WebPages', 'resultIndex': 1, 'value': {'id': 'https://api.cognitive.microsoft.com/api/v7/#WebPages.1'}}, {'answerType': 'WebPages', 'resultIndex': 2, 'value': {'id': 'https://api.cognitive.microsoft.com/api/v7/#WebPages.2'}}, {'answerType': 'Videos', 'value': {'id': 'https://api.cognitive.microsoft.com/api/v7/#Videos'}}, {'answerType': 'WebPages', 'resultIndex': 3, 'value': {'id': 'https://api.cognitive.microsoft.com/api/v7/#WebPages.3'}}, {'answerType': 'WebPages', 'resultIndex': 4, 'value': {'id': 'https://api.cognitive.microsoft.com/api/v7/#WebPages.4'}}, {'answerType': 'WebPages', 'resultIndex': 5, 'value': {'id': 'https://api.cognitive.microsoft.com/api/v7/#WebPages.5'}}, {'answerType': 'WebPages', 'resultIndex': 6, 'value': {'id': 'https://api.cognitive.microsoft.com/api/v7/#WebPages.6'}}, {'answerType': 'WebPages', 'resultIndex': 7, 'value': {'id': 'https://api.cognitive.microsoft.com/api/v7/#WebPages.7'}}, {'answerType': 'WebPages', 'resultIndex': 8, 'value': {'id': 'https://api.cognitive.microsoft.com/api/v7/#WebPages.8'}}, {'answerType': 'WebPages', 'resultIndex': 9, 'value': {'id': 'https://api.cognitive.microsoft.com/api/v7/#WebPages.9'}}, {'answerType': 'RelatedSearches', 'value': {'id': 'https://api.cognitive.microsoft.com/api/v7/#RelatedSearches'}}]}, 'sidebar': {'items': [{'answerType': 'Images', 'value': {'id': 'https://api.cognitive.microsoft.com/api/v7/#Images'}}, {'answerType': 'Entities', 'resultIndex': 0, 'value': {'id': 'https://api.cognitive.microsoft.com/api/v7/#Entities.0'}}, {'answerType': 'Entities', 'resultIndex': 1, 'value': {'id': 'https://api.cognitive.microsoft.com/api/v7/#Entities.1'}}]}}\n"
          ],
          "name": "stdout"
        }
      ]
    },
    {
      "cell_type": "markdown",
      "metadata": {
        "id": "Y-DCzhts6JfM",
        "colab_type": "text"
      },
      "source": [
        "### web Pages"
      ]
    },
    {
      "cell_type": "code",
      "metadata": {
        "id": "VKvVbCgN6dlA",
        "colab_type": "code",
        "colab": {
          "base_uri": "https://localhost:8080/",
          "height": 33
        },
        "outputId": "67733cfd-a459-45c9-8e4f-d8d4e68928e5"
      },
      "source": [
        "res['webPages'].keys()"
      ],
      "execution_count": 23,
      "outputs": [
        {
          "output_type": "execute_result",
          "data": {
            "text/plain": [
              "dict_keys(['webSearchUrl', 'totalEstimatedMatches', 'value'])"
            ]
          },
          "metadata": {
            "tags": []
          },
          "execution_count": 23
        }
      ]
    },
    {
      "cell_type": "code",
      "metadata": {
        "id": "t0lHkFoJ6gVy",
        "colab_type": "code",
        "colab": {
          "base_uri": "https://localhost:8080/",
          "height": 180
        },
        "outputId": "69830ba1-0df6-4b10-b8cd-3883a03874c5"
      },
      "source": [
        "for page in res['webPages']['value']:\n",
        "  print(page.keys())"
      ],
      "execution_count": 24,
      "outputs": [
        {
          "output_type": "stream",
          "text": [
            "dict_keys(['id', 'contractualRules', 'name', 'url', 'about', 'isFamilyFriendly', 'displayUrl', 'snippet', 'dateLastCrawled', 'language', 'isNavigational'])\n",
            "dict_keys(['id', 'name', 'url', 'about', 'isFamilyFriendly', 'displayUrl', 'snippet', 'deepLinks', 'dateLastCrawled', 'language', 'isNavigational'])\n",
            "dict_keys(['id', 'name', 'url', 'about', 'isFamilyFriendly', 'displayUrl', 'snippet', 'dateLastCrawled', 'language', 'isNavigational'])\n",
            "dict_keys(['id', 'name', 'url', 'about', 'isFamilyFriendly', 'displayUrl', 'snippet', 'dateLastCrawled', 'language', 'isNavigational'])\n",
            "dict_keys(['id', 'name', 'url', 'about', 'isFamilyFriendly', 'displayUrl', 'snippet', 'dateLastCrawled', 'language', 'isNavigational'])\n",
            "dict_keys(['id', 'name', 'url', 'about', 'isFamilyFriendly', 'displayUrl', 'snippet', 'dateLastCrawled', 'language', 'isNavigational'])\n",
            "dict_keys(['id', 'name', 'url', 'isFamilyFriendly', 'displayUrl', 'snippet', 'dateLastCrawled', 'language', 'isNavigational'])\n",
            "dict_keys(['id', 'name', 'url', 'about', 'isFamilyFriendly', 'displayUrl', 'snippet', 'dateLastCrawled', 'language', 'isNavigational'])\n",
            "dict_keys(['id', 'name', 'url', 'about', 'isFamilyFriendly', 'displayUrl', 'snippet', 'dateLastCrawled', 'language', 'isNavigational'])\n",
            "dict_keys(['id', 'contractualRules', 'name', 'url', 'about', 'isFamilyFriendly', 'displayUrl', 'snippet', 'dateLastCrawled', 'language', 'isNavigational'])\n"
          ],
          "name": "stdout"
        }
      ]
    },
    {
      "cell_type": "code",
      "metadata": {
        "id": "0j3XbvI66gfA",
        "colab_type": "code",
        "colab": {
          "base_uri": "https://localhost:8080/",
          "height": 86
        },
        "outputId": "c9a126a2-547a-432f-9dee-9e82f1ba763b"
      },
      "source": [
        "for k,v in res['webPages'].items():\n",
        "  print(\"{:23s}: {}\".format(k, v))"
      ],
      "execution_count": 25,
      "outputs": [
        {
          "output_type": "stream",
          "text": [
            "webSearchUrl           : https://www.bing.com/search?q=Steve+Jobs\n",
            "totalEstimatedMatches  : 7010000\n",
            "value                  : [{'id': 'https://api.cognitive.microsoft.com/api/v7/#WebPages.0', 'contractualRules': [{'_type': 'ContractualRules/LicenseAttribution', 'targetPropertyName': 'description', 'targetPropertyIndex': 0, 'mustBeCloseToContent': True, 'license': {'name': 'CC-BY-SA', 'url': 'http://creativecommons.org/licenses/by-sa/3.0/'}, 'licenseNotice': 'Text under CC-BY-SA license'}], 'name': 'Steve Jobs - Wikipedia', 'url': 'https://en.wikipedia.org/wiki/Steve_Jobs', 'about': [{'name': 'Steve Jobs'}, {'name': 'Steve Jobs'}], 'isFamilyFriendly': True, 'displayUrl': 'https://en.wikipedia.org/wiki/Steve_Jobs', 'snippet': \"Steven Paul Jobs (/ dʒ ɒ b z /; February 24, 1955 – October 5, 2011) was an American business magnate, industrial designer, investor, and media proprietor.He was the chairman, chief executive officer (CEO), and co-founder of Apple Inc., the chairman and majority shareholder of Pixar, a member of The Walt Disney Company's board of directors following its acquisition of Pixar, and the ...\", 'dateLastCrawled': '2020-03-11T09:07:00.0000000Z', 'language': 'en', 'isNavigational': False}, {'id': 'https://api.cognitive.microsoft.com/api/v7/#WebPages.1', 'name': 'Steve Jobs - Apple, Family & Death - Biography', 'url': 'https://www.biography.com/business-figure/steve-jobs', 'about': [{'name': 'Steve Jobs'}, {'name': 'Steve Jobs'}], 'isFamilyFriendly': True, 'displayUrl': 'https://www.biography.com/business-figure/steve-jobs', 'snippet': \"Steve Jobs co-founded Apple Computers with Steve Wozniak. Under Jobs' guidance, the company pioneered a series of revolutionary technologies, including the iPhone and iPad.\", 'deepLinks': [{'name': 'Bill Gates', 'url': 'https://www.biography.com/business-figure/bill-gates'}, {'name': 'Tim Cook', 'url': 'https://www.biography.com/business-figure/tim-cook'}, {'name': 'Steve Wozniak', 'url': 'https://www.biography.com/inventor/steve-wozniak'}], 'dateLastCrawled': '2020-03-11T22:36:00.0000000Z', 'language': 'en', 'isNavigational': False}, {'id': 'https://api.cognitive.microsoft.com/api/v7/#WebPages.2', 'name': 'Steve Jobs | Biography, Apple, & Facts | Britannica', 'url': 'https://www.britannica.com/biography/Steve-Jobs', 'about': [{'name': 'Steve Jobs'}], 'isFamilyFriendly': True, 'displayUrl': 'https://www.britannica.com/biography/Steve-Jobs', 'snippet': 'Steve Jobs, cofounder of Apple Computer, Inc. (now Apple Inc.), and a charismatic pioneer of the personal computer era. Under his oversight, Apple introduced such innovative products as the iMac, iPhone, and iPod. He also helped build Pixar into a major animation studio. Learn more about Jobs’s life and career.', 'dateLastCrawled': '2020-03-11T05:04:00.0000000Z', 'language': 'en', 'isNavigational': False}, {'id': 'https://api.cognitive.microsoft.com/api/v7/#WebPages.3', 'name': 'Steve Jobs Biography | Biography Online', 'url': 'https://www.biographyonline.net/business/steve-jobs.html', 'about': [{'name': 'Steve Jobs'}], 'isFamilyFriendly': True, 'displayUrl': 'https://www.biographyonline.net/business/steve-jobs.html', 'snippet': 'Steve Jobs (Feb 24, 1955 – October 5, 2011) was an American businessman and inventor who played a key role in the success of Apple computers and the development of revolutionary new technology such as the iPod, iPad and MacBook.', 'dateLastCrawled': '2020-03-13T14:12:00.0000000Z', 'language': 'en', 'isNavigational': False}, {'id': 'https://api.cognitive.microsoft.com/api/v7/#WebPages.4', 'name': 'Steve Jobs: Walter Isaacson: 9781451648539: Amazon.com: Books', 'url': 'https://www.amazon.com/Steve-Jobs-Walter-Isaacson/dp/1451648537', 'about': [{'name': 'Steve Jobs'}, {'name': 'Steve Jobs'}], 'isFamilyFriendly': True, 'displayUrl': 'https://www.amazon.com/Steve-Jobs-Walter-Isaacson/dp/1451648537', 'snippet': 'Steve Jobs [Walter Isaacson] on Amazon.com. *FREE* shipping on qualifying offers. Based on more than forty interviews with Jobs conducted over two years—as well as interviews with more than a hundred family members', 'dateLastCrawled': '2020-03-03T06:19:00.0000000Z', 'language': 'en', 'isNavigational': False}, {'id': 'https://api.cognitive.microsoft.com/api/v7/#WebPages.5', 'name': 'Steve Jobs - forbes.com', 'url': 'https://www.forbes.com/profile/steve-jobs/', 'about': [{'name': 'Steve Jobs'}, {'name': 'Steve Jobs'}], 'isFamilyFriendly': True, 'displayUrl': 'https://www.forbes.com/profile/steve-jobs', 'snippet': 'Apple cofounder Steve Jobs finally succumbed to cancer at the age of 56 on October 5th, leaving behind a legacy that changed the computer, music, film and wireless industries.', 'dateLastCrawled': '2020-03-14T08:09:00.0000000Z', 'language': 'en', 'isNavigational': False}, {'id': 'https://api.cognitive.microsoft.com/api/v7/#WebPages.6', 'name': \"Steve Jobs' Widow Responds to Daughter's Shocking Claims ...\", 'url': 'https://people.com/human-interest/lisa-brennan-jobs-on-childhood-steve-jobs/', 'isFamilyFriendly': True, 'displayUrl': 'https://people.com/human-interest/lisa-brennan-jobs-on-childhood-steve-jobs', 'snippet': 'Steve Jobs\\'s daughter, Lisa Brennan-Jobs recalls her father saying she smelled \"like a toilet\" while on his deathbed and other shocking claims in her memoir', 'dateLastCrawled': '2020-03-12T00:21:00.0000000Z', 'language': 'en', 'isNavigational': False}, {'id': 'https://api.cognitive.microsoft.com/api/v7/#WebPages.7', 'name': 'Home | all about Steve Jobs.com', 'url': 'https://allaboutstevejobs.com/', 'about': [{'name': 'Steve Jobs'}, {'name': 'Steve Jobs'}], 'isFamilyFriendly': True, 'displayUrl': 'https://allaboutstevejobs.com', 'snippet': 'This website is a repository of all things Steve Jobs — biography, pictures, videos of his keynotes and demos, quotes, interviews — you name it.', 'dateLastCrawled': '2020-03-13T14:13:00.0000000Z', 'language': 'en', 'isNavigational': False}, {'id': 'https://api.cognitive.microsoft.com/api/v7/#WebPages.8', 'name': 'Steve Jobs Quotes (88 quotes)', 'url': 'https://www.goodreads.com/quotes/tag/steve-jobs', 'about': [{'name': 'Steve Jobs'}], 'isFamilyFriendly': True, 'displayUrl': 'https://www.goodreads.com/quotes/tag/steve-jobs', 'snippet': '88 quotes have been tagged as steve-jobs: Steve Jobs: ‘Don’t let the noise of others’ opinions drown out your own inner voice.[Stanford University com...', 'dateLastCrawled': '2020-03-11T12:46:00.0000000Z', 'language': 'en', 'isNavigational': False}, {'id': 'https://api.cognitive.microsoft.com/api/v7/#WebPages.9', 'contractualRules': [{'_type': 'ContractualRules/LicenseAttribution', 'targetPropertyName': 'description', 'targetPropertyIndex': 9, 'mustBeCloseToContent': True, 'license': {'name': 'CC-BY-SA', 'url': 'http://creativecommons.org/licenses/by-sa/3.0/'}, 'licenseNotice': 'Text under CC-BY-SA license'}], 'name': 'Steve Jobs (film) - Wikipedia', 'url': 'https://en.wikipedia.org/wiki/Steve_Jobs_(film)', 'about': [{'name': 'Steve Jobs'}, {'name': 'Steve Jobs'}], 'isFamilyFriendly': True, 'displayUrl': 'https://en.wikipedia.org/wiki/Steve_Jobs_(film)', 'snippet': 'Steve Jobs is a 2015 biographical drama film directed by Danny Boyle and written by Aaron Sorkin.Adapted from the 2011 biography by Walter Isaacson and interviews conducted by Sorkin, the film covers 14 years (1984–1998) in the life of Apple Inc. co-founder Steve Jobs.Jobs is portrayed by Michael Fassbender, with Kate Winslet, Seth Rogen, Katherine Waterston, Michael Stuhlbarg, and Jeff ...', 'dateLastCrawled': '2020-03-02T02:27:00.0000000Z', 'language': 'en', 'isNavigational': False}]\n"
          ],
          "name": "stdout"
        }
      ]
    },
    {
      "cell_type": "code",
      "metadata": {
        "id": "3CB5cTMp55cL",
        "colab_type": "code",
        "colab": {
          "base_uri": "https://localhost:8080/",
          "height": 1000
        },
        "outputId": "ddd71701-8536-4612-fad6-171e1a626bb5"
      },
      "source": [
        "for page in res['webPages']['value']:\n",
        "  for k,v in page.items():\n",
        "    print(\"{:17s}: {}\".format(k, v))\n",
        "  print('='*30)"
      ],
      "execution_count": 26,
      "outputs": [
        {
          "output_type": "stream",
          "text": [
            "id               : https://api.cognitive.microsoft.com/api/v7/#WebPages.0\n",
            "contractualRules : [{'_type': 'ContractualRules/LicenseAttribution', 'targetPropertyName': 'description', 'targetPropertyIndex': 0, 'mustBeCloseToContent': True, 'license': {'name': 'CC-BY-SA', 'url': 'http://creativecommons.org/licenses/by-sa/3.0/'}, 'licenseNotice': 'Text under CC-BY-SA license'}]\n",
            "name             : Steve Jobs - Wikipedia\n",
            "url              : https://en.wikipedia.org/wiki/Steve_Jobs\n",
            "about            : [{'name': 'Steve Jobs'}, {'name': 'Steve Jobs'}]\n",
            "isFamilyFriendly : True\n",
            "displayUrl       : https://en.wikipedia.org/wiki/Steve_Jobs\n",
            "snippet          : Steven Paul Jobs (/ dʒ ɒ b z /; February 24, 1955 – October 5, 2011) was an American business magnate, industrial designer, investor, and media proprietor.He was the chairman, chief executive officer (CEO), and co-founder of Apple Inc., the chairman and majority shareholder of Pixar, a member of The Walt Disney Company's board of directors following its acquisition of Pixar, and the ...\n",
            "dateLastCrawled  : 2020-03-11T09:07:00.0000000Z\n",
            "language         : en\n",
            "isNavigational   : False\n",
            "==============================\n",
            "id               : https://api.cognitive.microsoft.com/api/v7/#WebPages.1\n",
            "name             : Steve Jobs - Apple, Family & Death - Biography\n",
            "url              : https://www.biography.com/business-figure/steve-jobs\n",
            "about            : [{'name': 'Steve Jobs'}, {'name': 'Steve Jobs'}]\n",
            "isFamilyFriendly : True\n",
            "displayUrl       : https://www.biography.com/business-figure/steve-jobs\n",
            "snippet          : Steve Jobs co-founded Apple Computers with Steve Wozniak. Under Jobs' guidance, the company pioneered a series of revolutionary technologies, including the iPhone and iPad.\n",
            "deepLinks        : [{'name': 'Bill Gates', 'url': 'https://www.biography.com/business-figure/bill-gates'}, {'name': 'Tim Cook', 'url': 'https://www.biography.com/business-figure/tim-cook'}, {'name': 'Steve Wozniak', 'url': 'https://www.biography.com/inventor/steve-wozniak'}]\n",
            "dateLastCrawled  : 2020-03-11T22:36:00.0000000Z\n",
            "language         : en\n",
            "isNavigational   : False\n",
            "==============================\n",
            "id               : https://api.cognitive.microsoft.com/api/v7/#WebPages.2\n",
            "name             : Steve Jobs | Biography, Apple, & Facts | Britannica\n",
            "url              : https://www.britannica.com/biography/Steve-Jobs\n",
            "about            : [{'name': 'Steve Jobs'}]\n",
            "isFamilyFriendly : True\n",
            "displayUrl       : https://www.britannica.com/biography/Steve-Jobs\n",
            "snippet          : Steve Jobs, cofounder of Apple Computer, Inc. (now Apple Inc.), and a charismatic pioneer of the personal computer era. Under his oversight, Apple introduced such innovative products as the iMac, iPhone, and iPod. He also helped build Pixar into a major animation studio. Learn more about Jobs’s life and career.\n",
            "dateLastCrawled  : 2020-03-11T05:04:00.0000000Z\n",
            "language         : en\n",
            "isNavigational   : False\n",
            "==============================\n",
            "id               : https://api.cognitive.microsoft.com/api/v7/#WebPages.3\n",
            "name             : Steve Jobs Biography | Biography Online\n",
            "url              : https://www.biographyonline.net/business/steve-jobs.html\n",
            "about            : [{'name': 'Steve Jobs'}]\n",
            "isFamilyFriendly : True\n",
            "displayUrl       : https://www.biographyonline.net/business/steve-jobs.html\n",
            "snippet          : Steve Jobs (Feb 24, 1955 – October 5, 2011) was an American businessman and inventor who played a key role in the success of Apple computers and the development of revolutionary new technology such as the iPod, iPad and MacBook.\n",
            "dateLastCrawled  : 2020-03-13T14:12:00.0000000Z\n",
            "language         : en\n",
            "isNavigational   : False\n",
            "==============================\n",
            "id               : https://api.cognitive.microsoft.com/api/v7/#WebPages.4\n",
            "name             : Steve Jobs: Walter Isaacson: 9781451648539: Amazon.com: Books\n",
            "url              : https://www.amazon.com/Steve-Jobs-Walter-Isaacson/dp/1451648537\n",
            "about            : [{'name': 'Steve Jobs'}, {'name': 'Steve Jobs'}]\n",
            "isFamilyFriendly : True\n",
            "displayUrl       : https://www.amazon.com/Steve-Jobs-Walter-Isaacson/dp/1451648537\n",
            "snippet          : Steve Jobs [Walter Isaacson] on Amazon.com. *FREE* shipping on qualifying offers. Based on more than forty interviews with Jobs conducted over two years—as well as interviews with more than a hundred family members\n",
            "dateLastCrawled  : 2020-03-03T06:19:00.0000000Z\n",
            "language         : en\n",
            "isNavigational   : False\n",
            "==============================\n",
            "id               : https://api.cognitive.microsoft.com/api/v7/#WebPages.5\n",
            "name             : Steve Jobs - forbes.com\n",
            "url              : https://www.forbes.com/profile/steve-jobs/\n",
            "about            : [{'name': 'Steve Jobs'}, {'name': 'Steve Jobs'}]\n",
            "isFamilyFriendly : True\n",
            "displayUrl       : https://www.forbes.com/profile/steve-jobs\n",
            "snippet          : Apple cofounder Steve Jobs finally succumbed to cancer at the age of 56 on October 5th, leaving behind a legacy that changed the computer, music, film and wireless industries.\n",
            "dateLastCrawled  : 2020-03-14T08:09:00.0000000Z\n",
            "language         : en\n",
            "isNavigational   : False\n",
            "==============================\n",
            "id               : https://api.cognitive.microsoft.com/api/v7/#WebPages.6\n",
            "name             : Steve Jobs' Widow Responds to Daughter's Shocking Claims ...\n",
            "url              : https://people.com/human-interest/lisa-brennan-jobs-on-childhood-steve-jobs/\n",
            "isFamilyFriendly : True\n",
            "displayUrl       : https://people.com/human-interest/lisa-brennan-jobs-on-childhood-steve-jobs\n",
            "snippet          : Steve Jobs's daughter, Lisa Brennan-Jobs recalls her father saying she smelled \"like a toilet\" while on his deathbed and other shocking claims in her memoir\n",
            "dateLastCrawled  : 2020-03-12T00:21:00.0000000Z\n",
            "language         : en\n",
            "isNavigational   : False\n",
            "==============================\n",
            "id               : https://api.cognitive.microsoft.com/api/v7/#WebPages.7\n",
            "name             : Home | all about Steve Jobs.com\n",
            "url              : https://allaboutstevejobs.com/\n",
            "about            : [{'name': 'Steve Jobs'}, {'name': 'Steve Jobs'}]\n",
            "isFamilyFriendly : True\n",
            "displayUrl       : https://allaboutstevejobs.com\n",
            "snippet          : This website is a repository of all things Steve Jobs — biography, pictures, videos of his keynotes and demos, quotes, interviews — you name it.\n",
            "dateLastCrawled  : 2020-03-13T14:13:00.0000000Z\n",
            "language         : en\n",
            "isNavigational   : False\n",
            "==============================\n",
            "id               : https://api.cognitive.microsoft.com/api/v7/#WebPages.8\n",
            "name             : Steve Jobs Quotes (88 quotes)\n",
            "url              : https://www.goodreads.com/quotes/tag/steve-jobs\n",
            "about            : [{'name': 'Steve Jobs'}]\n",
            "isFamilyFriendly : True\n",
            "displayUrl       : https://www.goodreads.com/quotes/tag/steve-jobs\n",
            "snippet          : 88 quotes have been tagged as steve-jobs: Steve Jobs: ‘Don’t let the noise of others’ opinions drown out your own inner voice.[Stanford University com...\n",
            "dateLastCrawled  : 2020-03-11T12:46:00.0000000Z\n",
            "language         : en\n",
            "isNavigational   : False\n",
            "==============================\n",
            "id               : https://api.cognitive.microsoft.com/api/v7/#WebPages.9\n",
            "contractualRules : [{'_type': 'ContractualRules/LicenseAttribution', 'targetPropertyName': 'description', 'targetPropertyIndex': 9, 'mustBeCloseToContent': True, 'license': {'name': 'CC-BY-SA', 'url': 'http://creativecommons.org/licenses/by-sa/3.0/'}, 'licenseNotice': 'Text under CC-BY-SA license'}]\n",
            "name             : Steve Jobs (film) - Wikipedia\n",
            "url              : https://en.wikipedia.org/wiki/Steve_Jobs_(film)\n",
            "about            : [{'name': 'Steve Jobs'}, {'name': 'Steve Jobs'}]\n",
            "isFamilyFriendly : True\n",
            "displayUrl       : https://en.wikipedia.org/wiki/Steve_Jobs_(film)\n",
            "snippet          : Steve Jobs is a 2015 biographical drama film directed by Danny Boyle and written by Aaron Sorkin.Adapted from the 2011 biography by Walter Isaacson and interviews conducted by Sorkin, the film covers 14 years (1984–1998) in the life of Apple Inc. co-founder Steve Jobs.Jobs is portrayed by Michael Fassbender, with Kate Winslet, Seth Rogen, Katherine Waterston, Michael Stuhlbarg, and Jeff ...\n",
            "dateLastCrawled  : 2020-03-02T02:27:00.0000000Z\n",
            "language         : en\n",
            "isNavigational   : False\n",
            "==============================\n"
          ],
          "name": "stdout"
        }
      ]
    },
    {
      "cell_type": "code",
      "metadata": {
        "id": "UPvXPLOg58Xp",
        "colab_type": "code",
        "colab": {
          "base_uri": "https://localhost:8080/",
          "height": 33
        },
        "outputId": "e971999a-5b3f-4ede-adb0-3fda9f3a4034"
      },
      "source": [
        " res['webPages']['value'][0]['url']"
      ],
      "execution_count": 27,
      "outputs": [
        {
          "output_type": "execute_result",
          "data": {
            "text/plain": [
              "'https://en.wikipedia.org/wiki/Steve_Jobs'"
            ]
          },
          "metadata": {
            "tags": []
          },
          "execution_count": 27
        }
      ]
    },
    {
      "cell_type": "code",
      "metadata": {
        "id": "WgaFJMAB7S6U",
        "colab_type": "code",
        "colab": {}
      },
      "source": [
        ""
      ],
      "execution_count": 0,
      "outputs": []
    },
    {
      "cell_type": "markdown",
      "metadata": {
        "id": "7qyOqLS87Wlm",
        "colab_type": "text"
      },
      "source": [
        "### Related Searches \n",
        "\n",
        "\n",
        "- These will appear on the bottom of each webpage"
      ]
    },
    {
      "cell_type": "code",
      "metadata": {
        "id": "DKQcabyk7W5R",
        "colab_type": "code",
        "colab": {
          "base_uri": "https://localhost:8080/",
          "height": 407
        },
        "outputId": "0394704e-03de-444d-95fd-4e64594600f6"
      },
      "source": [
        "res['relatedSearches']['value']"
      ],
      "execution_count": 28,
      "outputs": [
        {
          "output_type": "execute_result",
          "data": {
            "text/plain": [
              "[{'displayText': 'the death of steve jobs',\n",
              "  'text': 'the death of steve jobs',\n",
              "  'webSearchUrl': 'https://www.bing.com/search?q=the+death+of+steve+jobs'},\n",
              " {'displayText': 'steve jobs movie biography',\n",
              "  'text': 'steve jobs movie biography',\n",
              "  'webSearchUrl': 'https://www.bing.com/search?q=steve+jobs+movie+biography'},\n",
              " {'displayText': 'steve jobs brief biography',\n",
              "  'text': 'steve jobs brief biography',\n",
              "  'webSearchUrl': 'https://www.bing.com/search?q=steve+jobs+brief+biography'},\n",
              " {'displayText': 'steve jobs daughter',\n",
              "  'text': 'steve jobs daughter',\n",
              "  'webSearchUrl': 'https://www.bing.com/search?q=steve+jobs+daughter'},\n",
              " {'displayText': 'why did steve jobs start apple',\n",
              "  'text': 'why did steve jobs start apple',\n",
              "  'webSearchUrl': 'https://www.bing.com/search?q=why+did+steve+jobs+start+apple'},\n",
              " {'displayText': 'all about steve jobs',\n",
              "  'text': 'all about steve jobs',\n",
              "  'webSearchUrl': 'https://www.bing.com/search?q=all+about+steve+jobs'},\n",
              " {'displayText': 'bio of steve jobs',\n",
              "  'text': 'bio of steve jobs',\n",
              "  'webSearchUrl': 'https://www.bing.com/search?q=bio+of+steve+jobs'},\n",
              " {'displayText': 'steve jobs parents',\n",
              "  'text': 'steve jobs parents',\n",
              "  'webSearchUrl': 'https://www.bing.com/search?q=steve+jobs+parents'}]"
            ]
          },
          "metadata": {
            "tags": []
          },
          "execution_count": 28
        }
      ]
    },
    {
      "cell_type": "markdown",
      "metadata": {
        "id": "FIXgc9oF7e1D",
        "colab_type": "text"
      },
      "source": [
        "## Videos"
      ]
    },
    {
      "cell_type": "code",
      "metadata": {
        "id": "LyeQdZwT7f83",
        "colab_type": "code",
        "colab": {
          "base_uri": "https://localhost:8080/",
          "height": 33
        },
        "outputId": "98666b3b-685a-461f-972f-6fec3516304b"
      },
      "source": [
        "res['videos'].keys()"
      ],
      "execution_count": 29,
      "outputs": [
        {
          "output_type": "execute_result",
          "data": {
            "text/plain": [
              "dict_keys(['id', 'readLink', 'webSearchUrl', 'isFamilyFriendly', 'value', 'scenario'])"
            ]
          },
          "metadata": {
            "tags": []
          },
          "execution_count": 29
        }
      ]
    },
    {
      "cell_type": "code",
      "metadata": {
        "id": "P1tWxTI77i6B",
        "colab_type": "code",
        "colab": {
          "base_uri": "https://localhost:8080/",
          "height": 135
        },
        "outputId": "fc22c98e-c764-4f7f-f505-89838d666d31"
      },
      "source": [
        "for k, v in res['videos'].items():\n",
        "  print(\"{:17s}:  {}\".format(k, v))"
      ],
      "execution_count": 30,
      "outputs": [
        {
          "output_type": "stream",
          "text": [
            "id               :  https://api.cognitive.microsoft.com/api/v7/#Videos\n",
            "readLink         :  https://api.cognitive.microsoft.com/api/v7/videos/search?q=steve+jobs\n",
            "webSearchUrl     :  https://www.bing.com/videos/search?q=steve+jobs\n",
            "isFamilyFriendly :  True\n",
            "value            :  [{'webSearchUrl': 'https://www.bing.com/videos/search?q=steve%20jobs&view=detail&mid=388D51581ECEAF5EE1F6388D51581ECEAF5EE1F6', 'name': 'Steve Jobs: My 5 Principles For Success | Inc.', 'description': 'Steve Jobs was one of the most innovative leaders of our time, creating iconic companies like Apple, Pixar and NeXT. #SteveJobs #Apple #Success Get social with Inc. on: Facebook: https://www.facebook.com/Inc Twitter: https://twitter.com/Inc Linkedin: https://www.linkedin.com/company/inc-... Instagram: https://www.instagram.com/incmagazine ...', 'thumbnailUrl': 'https://tse3.mm.bing.net/th?id=OVP.BDAINdeh1qCbzEbc3e1IIQEsDh&pid=Api', 'datePublished': '2019-08-05T13:00:05.0000000', 'publisher': [{'name': 'YouTube'}], 'isAccessibleForFree': True, 'contentUrl': 'https://www.youtube.com/watch?v=LcmS0y7ZOXI', 'hostPageUrl': 'https://www.youtube.com/watch?v=LcmS0y7ZOXI', 'encodingFormat': 'mp4', 'hostPageDisplayUrl': 'https://www.youtube.com/watch?v=LcmS0y7ZOXI', 'width': 1280, 'height': 720, 'duration': 'PT2M20S', 'embedHtml': '<iframe width=\"1280\" height=\"720\" src=\"http://www.youtube.com/embed/LcmS0y7ZOXI?autoplay=1\" frameborder=\"0\" allowfullscreen></iframe>', 'allowHttpsEmbed': True, 'viewCount': 38717, 'thumbnail': {'width': 160, 'height': 120}, 'allowMobileEmbed': True, 'isSuperfresh': False}, {'webSearchUrl': 'https://www.bing.com/videos/search?q=steve%20jobs&view=detail&mid=850711BC40C6BA08B54E850711BC40C6BA08B54E', 'name': 'Watch Steve Jobs explain the iPhone in 2007 CNBC interview', 'description': 'Just after his famous keynote address in 2007, Steve Jobs sat down with CNBC to explain why the iPhone would transform the \"handset\" industry. \"We think what we\\'ve done, is to reinvent the phone,\" he said. CNBC pulls it out of the Time Capsule.', 'thumbnailUrl': 'https://tse3.mm.bing.net/th?id=OVP.ZGOox1r90uasMcpt_0nKuAEsCo&pid=Api', 'datePublished': '2018-10-30T04:22:48.0000000', 'publisher': [{'name': 'CNBC'}], 'isAccessibleForFree': True, 'contentUrl': 'https://www.cnbc.com/video/2018/10/30/watch-steve-jobs-explain-the-iphone-in-2007-cnbc...', 'hostPageUrl': 'https://www.cnbc.com/video/2018/10/30/watch-steve-jobs-explain-the-iphone-in-2007-cnbc...', 'encodingFormat': 'mp4', 'hostPageDisplayUrl': 'https://www.cnbc.com/video/2018/10/30/watch-steve-jobs-explain-the-iphone-in-2007-cnbc-interview.html', 'width': 534, 'height': 300, 'duration': 'PT3M57S', 'motionThumbnailUrl': 'https://tse3.mm.bing.net/th?id=OM.TrUIusZAvBEHhQ_1581623616&pid=Api', 'embedHtml': '<iframe src=\"https://player.cnbc.com/p/gZWlPC/cnbc_global?playertype=synd&byGuid=7000048275\" width=\"530\" height=\"298\" type=\"application/x-shockwave-flash\" allowFullScreen=\"true\" bgcolor=\"#131313\" scrolling=\"no\"></iframe>', 'allowHttpsEmbed': True, 'thumbnail': {'width': 160, 'height': 89}, 'allowMobileEmbed': True, 'isSuperfresh': False}, {'webSearchUrl': 'https://www.bing.com/videos/search?q=steve%20jobs&view=detail&mid=179C99F6C682D0504E27179C99F6C682D0504E27', 'name': 'Steve Wozniak: How Steve Jobs would react if he could see Apple today', 'description': 'Exclusive interview with Apple co-founder Steve Wozniak in Denmark, November 2019. About the state of Apple, modern technology, entrepreneurship, AI, Internet of Things and Steve Jobs. Contact: Lasse Ladefoged, lala@borsen.dk', 'thumbnailUrl': 'https://tse3.mm.bing.net/th?id=OVP.Fxn6r2NmDrQqs-gh4BjgcwEsDh&pid=Api', 'datePublished': '2019-11-21T13:53:21.0000000', 'publisher': [{'name': 'YouTube'}], 'isAccessibleForFree': True, 'contentUrl': 'https://www.youtube.com/watch?v=PhBVRFKVGxU', 'hostPageUrl': 'https://www.youtube.com/watch?v=PhBVRFKVGxU', 'encodingFormat': 'mp4', 'hostPageDisplayUrl': 'https://www.youtube.com/watch?v=PhBVRFKVGxU', 'width': 1280, 'height': 720, 'duration': 'PT11M50S', 'motionThumbnailUrl': 'https://tse3.mm.bing.net/th?id=OM.J05Q0ILG9pmcFw_1582317153&pid=Api', 'embedHtml': '<iframe width=\"1280\" height=\"720\" src=\"http://www.youtube.com/embed/PhBVRFKVGxU?autoplay=1\" frameborder=\"0\" allowfullscreen></iframe>', 'allowHttpsEmbed': True, 'viewCount': 341053, 'thumbnail': {'width': 160, 'height': 120}, 'allowMobileEmbed': True, 'isSuperfresh': False}, {'webSearchUrl': 'https://www.bing.com/videos/search?q=steve%20jobs&view=detail&mid=2623CDBD88FB8211D1B12623CDBD88FB8211D1B1', 'name': 'Steve Jobs Lived By These 5 Philosophies for Success. You Can Too | Inc.', 'description': 'Visionary entrepreneur Steve Jobs believed in embracing failure and celebrating the small victories. Here are the 5 philosophies he always lived by. #SteveJobs #Apple #Success Get social with Inc. on: Facebook: https://www.facebook.com/Inc Twitter: https://twitter.com/Inc Linkedin: https://www.linkedin.com/company/inc-... Instagram: https://www ...', 'thumbnailUrl': 'https://tse3.mm.bing.net/th?id=OVP.w22OCIanoy3kZ0fm0-ThswEsDh&pid=Api', 'datePublished': '2019-08-19T13:00:12.0000000', 'publisher': [{'name': 'YouTube'}], 'isAccessibleForFree': True, 'contentUrl': 'https://www.youtube.com/watch?v=jcFbGsl8DDI', 'hostPageUrl': 'https://www.youtube.com/watch?v=jcFbGsl8DDI', 'encodingFormat': 'mp4', 'hostPageDisplayUrl': 'https://www.youtube.com/watch?v=jcFbGsl8DDI', 'width': 1280, 'height': 720, 'duration': 'PT2M22S', 'motionThumbnailUrl': 'https://tse3.mm.bing.net/th?id=OM.sdERgvuIvc0jJg_1583925985&pid=Api', 'embedHtml': '<iframe width=\"1280\" height=\"720\" src=\"http://www.youtube.com/embed/jcFbGsl8DDI?autoplay=1\" frameborder=\"0\" allowfullscreen></iframe>', 'allowHttpsEmbed': True, 'viewCount': 5193, 'thumbnail': {'width': 160, 'height': 120}, 'allowMobileEmbed': True, 'isSuperfresh': False}, {'webSearchUrl': 'https://www.bing.com/videos/search?q=steve%20jobs&view=detail&mid=0EC4369DADE90B877A4F0EC4369DADE90B877A4F', 'name': \"Bill Gates calls Steve Jobs a 'wizard' who saved Apple\", 'description': 'Steve Jobs was a wizard who \"cast spells on people\" to help keep Apple afloat during the company\\'s darkest days, according to longtime rival Bill Gates. The Microsoft (MSFT) founder discussed his and Jobs\\' leadership styles with CNN\\'s Fareed Zakaria Sunday. Both men are known for being tough leaders who foster an intense workplace culture ...', 'thumbnailUrl': 'https://tse4.mm.bing.net/th?id=OVP.-_gUUW2WnaQSzfxiL0LWMAHfFn&pid=Api', 'datePublished': '2019-07-08T21:10:20.0000000', 'publisher': [{'name': 'YouTube'}], 'isAccessibleForFree': True, 'contentUrl': 'https://www.youtube.com/watch?v=ZeKSDy15q-I', 'hostPageUrl': 'https://www.youtube.com/watch?v=ZeKSDy15q-I', 'encodingFormat': 'mp4', 'hostPageDisplayUrl': 'https://www.youtube.com/watch?v=ZeKSDy15q-I', 'width': 1280, 'height': 720, 'duration': 'PT4M47S', 'embedHtml': '<iframe width=\"1280\" height=\"720\" src=\"http://www.youtube.com/embed/ZeKSDy15q-I?autoplay=1\" frameborder=\"0\" allowfullscreen></iframe>', 'allowHttpsEmbed': True, 'viewCount': 354818, 'thumbnail': {'width': 160, 'height': 119}, 'allowMobileEmbed': True, 'isSuperfresh': False}, {'webSearchUrl': 'https://www.bing.com/videos/search?q=steve%20jobs&view=detail&mid=D602D7437ED9A047CC01D602D7437ED9A047CC01', 'name': 'Steve Jobs MIT Class: What he learnt after he was fired from Apple?', 'description': 'What Steve Jobs learned after he was fired from Apple', 'thumbnailUrl': 'https://tse2.mm.bing.net/th?id=OVP.bIorgh-do54m9CGVr38SBAEsDh&pid=Api', 'datePublished': '2018-04-12T18:31:47.0000000', 'publisher': [{'name': 'YouTube'}], 'isAccessibleForFree': True, 'contentUrl': 'https://www.youtube.com/watch?v=YXUhLbV8Nrg', 'hostPageUrl': 'https://www.youtube.com/watch?v=YXUhLbV8Nrg', 'encodingFormat': 'mp4', 'hostPageDisplayUrl': 'https://www.youtube.com/watch?v=YXUhLbV8Nrg', 'width': 1280, 'height': 720, 'duration': 'PT1H12M54S', 'motionThumbnailUrl': 'https://tse2.mm.bing.net/th?id=OM.AcxHoNl-Q9cC1g_1584093655&pid=Api', 'embedHtml': '<iframe width=\"1280\" height=\"720\" src=\"http://www.youtube.com/embed/YXUhLbV8Nrg?autoplay=1\" frameborder=\"0\" allowfullscreen></iframe>', 'allowHttpsEmbed': True, 'viewCount': 128597, 'thumbnail': {'width': 160, 'height': 120}, 'allowMobileEmbed': True, 'isSuperfresh': False}, {'webSearchUrl': 'https://www.bing.com/videos/search?q=steve%20jobs&view=detail&mid=891213E359CCDE641486891213E359CCDE641486', 'name': 'Steve Jobs Worn Shirt is in this iPhone', 'description': \"This is the iPhone 11 Pro Superior Steve Jobs. Yes, it has an actual piece of Steve Jobs' shirt embedded in it. https://caviar.global/caviar-iphone-11/iphone-11-pro-superior-jobs/ FOLLOW ME IN THESE PLACES FOR UPDATES Twitter - http://twitter.com/unboxtherapy Facebook - http://facebook.com/unboxtherapy Instagram - http://instagram.com/unboxtherapy\", 'thumbnailUrl': 'https://tse2.mm.bing.net/th?id=OVP.C3fF6qgDOiO3F35tU-32ugEsDh&pid=Api', 'datePublished': '2019-11-22T16:59:14.0000000', 'publisher': [{'name': 'YouTube'}], 'isAccessibleForFree': True, 'contentUrl': 'https://www.youtube.com/watch?v=dDocQ6Qba8g', 'hostPageUrl': 'https://www.youtube.com/watch?v=dDocQ6Qba8g', 'encodingFormat': 'mp4', 'hostPageDisplayUrl': 'https://www.youtube.com/watch?v=dDocQ6Qba8g', 'width': 1280, 'height': 720, 'duration': 'PT10M47S', 'motionThumbnailUrl': 'https://tse2.mm.bing.net/th?id=OM.hhRk3sxZ4xMSiQ_1582640293&pid=Api', 'embedHtml': '<iframe width=\"1280\" height=\"720\" src=\"http://www.youtube.com/embed/dDocQ6Qba8g?autoplay=1\" frameborder=\"0\" allowfullscreen></iframe>', 'allowHttpsEmbed': True, 'viewCount': 5572283, 'thumbnail': {'width': 160, 'height': 120}, 'allowMobileEmbed': True, 'isSuperfresh': False}, {'webSearchUrl': 'https://www.bing.com/videos/search?q=steve%20jobs&view=detail&mid=F3946EA3ACE7030648BBF3946EA3ACE7030648BB', 'name': \"Why Steve Jobs Didn't Have a License Plate\", 'description': \"What do you know about Steve Jobs, the legendary co-founder of Apple, who created one of the greatest gadgets of our time? Turns out, he was a man of mystery, and in the most literal sense of the word. Just think about it, he'd been driving a car around Silicon Valley without a license plate for years on end! That meant breaking the law, which ...\", 'thumbnailUrl': 'https://tse4.mm.bing.net/th?id=OVP.1B4U0TLT3kMG2SMloEhDPAEsDh&pid=Api', 'datePublished': '2019-10-10T17:00:11.0000000', 'publisher': [{'name': 'YouTube'}], 'isAccessibleForFree': True, 'contentUrl': 'https://www.youtube.com/watch?v=bKsDLW9akPo', 'hostPageUrl': 'https://www.youtube.com/watch?v=bKsDLW9akPo', 'encodingFormat': 'mp4', 'hostPageDisplayUrl': 'https://www.youtube.com/watch?v=bKsDLW9akPo', 'width': 1280, 'height': 720, 'duration': 'PT9M10S', 'motionThumbnailUrl': 'https://tse4.mm.bing.net/th?id=OM.u0gGA-eso26U8w_1581441457&pid=Api', 'embedHtml': '<iframe width=\"1280\" height=\"720\" src=\"http://www.youtube.com/embed/bKsDLW9akPo?autoplay=1\" frameborder=\"0\" allowfullscreen></iframe>', 'allowHttpsEmbed': True, 'viewCount': 1927182, 'thumbnail': {'width': 160, 'height': 120}, 'allowMobileEmbed': True, 'isSuperfresh': False}, {'webSearchUrl': 'https://www.bing.com/videos/search?q=steve%20jobs&view=detail&mid=6843BFF961C7F4093CC66843BFF961C7F4093CC6', 'name': 'How Steve Jobs Saved Pixar from Bankruptcy', 'description': 'Audio Book: https://goo.gl/p8auh3 Amazon US link: http://bit.ly/NewThinkingbook Amazon India Link: https://goo.gl/qJCC1T Amazon UK link: https://goo.gl/RBxisf Ebook on Google Play: http://bit.ly/NewThinkingGooglePlay Subscribe here: https://goo.gl/9FS8uF Check out the previous episode: Become a Patron!: https://www.patreon.com/ColdFusion_TV CF ...', 'thumbnailUrl': 'https://tse1.mm.bing.net/th?id=OVP.G08CpmdXk2gkZAKt7BDSCwEsDh&pid=Api', 'datePublished': '2019-08-04T20:04:19.0000000', 'publisher': [{'name': 'YouTube'}], 'isAccessibleForFree': True, 'contentUrl': 'https://www.youtube.com/watch?v=nmwv0IGO3vw', 'hostPageUrl': 'https://www.youtube.com/watch?v=nmwv0IGO3vw', 'encodingFormat': 'mp4', 'hostPageDisplayUrl': 'https://www.youtube.com/watch?v=nmwv0IGO3vw', 'width': 1280, 'height': 720, 'duration': 'PT13M4S', 'embedHtml': '<iframe width=\"1280\" height=\"720\" src=\"http://www.youtube.com/embed/nmwv0IGO3vw?autoplay=1\" frameborder=\"0\" allowfullscreen></iframe>', 'allowHttpsEmbed': True, 'viewCount': 333584, 'thumbnail': {'width': 160, 'height': 120}, 'allowMobileEmbed': True, 'isSuperfresh': False}, {'webSearchUrl': 'https://www.bing.com/videos/search?q=steve%20jobs&view=detail&mid=CC9D148C0C1C3AC54EB7CC9D148C0C1C3AC54EB7', 'name': 'Steve Jobs Would LOVE the Apple Pencil', 'description': \"Whenever I do a video about the iPad or Apple pencil I know I'm going to get comments about how much Steve Jobs would have hated it. I'm not so sure, in this video I dig a little deeper and try to figure out why he hated styluses. EMAIL NEWSLETTER: http://eepurl.com/b-YDej Get Discounts to All My Courses! http://brad.site/learn ...\", 'thumbnailUrl': 'https://tse2.mm.bing.net/th?id=OVP.WM-ae4FLi3aoYsb7PkOKaAEsDh&pid=Api', 'datePublished': '2019-07-01T13:16:39.0000000', 'publisher': [{'name': 'YouTube'}], 'isAccessibleForFree': True, 'contentUrl': 'https://www.youtube.com/watch?v=BZ-Vvl9_WiU', 'hostPageUrl': 'https://www.youtube.com/watch?v=BZ-Vvl9_WiU', 'encodingFormat': 'mp4', 'hostPageDisplayUrl': 'https://www.youtube.com/watch?v=BZ-Vvl9_WiU', 'width': 1280, 'height': 720, 'duration': 'PT12M58S', 'motionThumbnailUrl': 'https://tse2.mm.bing.net/th?id=OM.t07FOhwMjBSdzA_1579833050&pid=Api', 'embedHtml': '<iframe width=\"1280\" height=\"720\" src=\"http://www.youtube.com/embed/BZ-Vvl9_WiU?autoplay=1\" frameborder=\"0\" allowfullscreen></iframe>', 'allowHttpsEmbed': True, 'viewCount': 31582, 'thumbnail': {'width': 160, 'height': 120}, 'allowMobileEmbed': True, 'isSuperfresh': False}]\n",
            "scenario         :  List\n"
          ],
          "name": "stdout"
        }
      ]
    },
    {
      "cell_type": "code",
      "metadata": {
        "id": "VckOo78G71mE",
        "colab_type": "code",
        "colab": {
          "base_uri": "https://localhost:8080/",
          "height": 1000
        },
        "outputId": "4de0c1bf-fc6e-4892-882b-8367d396138f"
      },
      "source": [
        "for video in res['videos']['value']:\n",
        "  for k,v in video.items():\n",
        "    print('{:20s}: {}'.format(k, v))\n",
        "  print('-'*100,'\\n')"
      ],
      "execution_count": 31,
      "outputs": [
        {
          "output_type": "stream",
          "text": [
            "webSearchUrl        : https://www.bing.com/videos/search?q=steve%20jobs&view=detail&mid=388D51581ECEAF5EE1F6388D51581ECEAF5EE1F6\n",
            "name                : Steve Jobs: My 5 Principles For Success | Inc.\n",
            "description         : Steve Jobs was one of the most innovative leaders of our time, creating iconic companies like Apple, Pixar and NeXT. #SteveJobs #Apple #Success Get social with Inc. on: Facebook: https://www.facebook.com/Inc Twitter: https://twitter.com/Inc Linkedin: https://www.linkedin.com/company/inc-... Instagram: https://www.instagram.com/incmagazine ...\n",
            "thumbnailUrl        : https://tse3.mm.bing.net/th?id=OVP.BDAINdeh1qCbzEbc3e1IIQEsDh&pid=Api\n",
            "datePublished       : 2019-08-05T13:00:05.0000000\n",
            "publisher           : [{'name': 'YouTube'}]\n",
            "isAccessibleForFree : True\n",
            "contentUrl          : https://www.youtube.com/watch?v=LcmS0y7ZOXI\n",
            "hostPageUrl         : https://www.youtube.com/watch?v=LcmS0y7ZOXI\n",
            "encodingFormat      : mp4\n",
            "hostPageDisplayUrl  : https://www.youtube.com/watch?v=LcmS0y7ZOXI\n",
            "width               : 1280\n",
            "height              : 720\n",
            "duration            : PT2M20S\n",
            "embedHtml           : <iframe width=\"1280\" height=\"720\" src=\"http://www.youtube.com/embed/LcmS0y7ZOXI?autoplay=1\" frameborder=\"0\" allowfullscreen></iframe>\n",
            "allowHttpsEmbed     : True\n",
            "viewCount           : 38717\n",
            "thumbnail           : {'width': 160, 'height': 120}\n",
            "allowMobileEmbed    : True\n",
            "isSuperfresh        : False\n",
            "---------------------------------------------------------------------------------------------------- \n",
            "\n",
            "webSearchUrl        : https://www.bing.com/videos/search?q=steve%20jobs&view=detail&mid=850711BC40C6BA08B54E850711BC40C6BA08B54E\n",
            "name                : Watch Steve Jobs explain the iPhone in 2007 CNBC interview\n",
            "description         : Just after his famous keynote address in 2007, Steve Jobs sat down with CNBC to explain why the iPhone would transform the \"handset\" industry. \"We think what we've done, is to reinvent the phone,\" he said. CNBC pulls it out of the Time Capsule.\n",
            "thumbnailUrl        : https://tse3.mm.bing.net/th?id=OVP.ZGOox1r90uasMcpt_0nKuAEsCo&pid=Api\n",
            "datePublished       : 2018-10-30T04:22:48.0000000\n",
            "publisher           : [{'name': 'CNBC'}]\n",
            "isAccessibleForFree : True\n",
            "contentUrl          : https://www.cnbc.com/video/2018/10/30/watch-steve-jobs-explain-the-iphone-in-2007-cnbc...\n",
            "hostPageUrl         : https://www.cnbc.com/video/2018/10/30/watch-steve-jobs-explain-the-iphone-in-2007-cnbc...\n",
            "encodingFormat      : mp4\n",
            "hostPageDisplayUrl  : https://www.cnbc.com/video/2018/10/30/watch-steve-jobs-explain-the-iphone-in-2007-cnbc-interview.html\n",
            "width               : 534\n",
            "height              : 300\n",
            "duration            : PT3M57S\n",
            "motionThumbnailUrl  : https://tse3.mm.bing.net/th?id=OM.TrUIusZAvBEHhQ_1581623616&pid=Api\n",
            "embedHtml           : <iframe src=\"https://player.cnbc.com/p/gZWlPC/cnbc_global?playertype=synd&byGuid=7000048275\" width=\"530\" height=\"298\" type=\"application/x-shockwave-flash\" allowFullScreen=\"true\" bgcolor=\"#131313\" scrolling=\"no\"></iframe>\n",
            "allowHttpsEmbed     : True\n",
            "thumbnail           : {'width': 160, 'height': 89}\n",
            "allowMobileEmbed    : True\n",
            "isSuperfresh        : False\n",
            "---------------------------------------------------------------------------------------------------- \n",
            "\n",
            "webSearchUrl        : https://www.bing.com/videos/search?q=steve%20jobs&view=detail&mid=179C99F6C682D0504E27179C99F6C682D0504E27\n",
            "name                : Steve Wozniak: How Steve Jobs would react if he could see Apple today\n",
            "description         : Exclusive interview with Apple co-founder Steve Wozniak in Denmark, November 2019. About the state of Apple, modern technology, entrepreneurship, AI, Internet of Things and Steve Jobs. Contact: Lasse Ladefoged, lala@borsen.dk\n",
            "thumbnailUrl        : https://tse3.mm.bing.net/th?id=OVP.Fxn6r2NmDrQqs-gh4BjgcwEsDh&pid=Api\n",
            "datePublished       : 2019-11-21T13:53:21.0000000\n",
            "publisher           : [{'name': 'YouTube'}]\n",
            "isAccessibleForFree : True\n",
            "contentUrl          : https://www.youtube.com/watch?v=PhBVRFKVGxU\n",
            "hostPageUrl         : https://www.youtube.com/watch?v=PhBVRFKVGxU\n",
            "encodingFormat      : mp4\n",
            "hostPageDisplayUrl  : https://www.youtube.com/watch?v=PhBVRFKVGxU\n",
            "width               : 1280\n",
            "height              : 720\n",
            "duration            : PT11M50S\n",
            "motionThumbnailUrl  : https://tse3.mm.bing.net/th?id=OM.J05Q0ILG9pmcFw_1582317153&pid=Api\n",
            "embedHtml           : <iframe width=\"1280\" height=\"720\" src=\"http://www.youtube.com/embed/PhBVRFKVGxU?autoplay=1\" frameborder=\"0\" allowfullscreen></iframe>\n",
            "allowHttpsEmbed     : True\n",
            "viewCount           : 341053\n",
            "thumbnail           : {'width': 160, 'height': 120}\n",
            "allowMobileEmbed    : True\n",
            "isSuperfresh        : False\n",
            "---------------------------------------------------------------------------------------------------- \n",
            "\n",
            "webSearchUrl        : https://www.bing.com/videos/search?q=steve%20jobs&view=detail&mid=2623CDBD88FB8211D1B12623CDBD88FB8211D1B1\n",
            "name                : Steve Jobs Lived By These 5 Philosophies for Success. You Can Too | Inc.\n",
            "description         : Visionary entrepreneur Steve Jobs believed in embracing failure and celebrating the small victories. Here are the 5 philosophies he always lived by. #SteveJobs #Apple #Success Get social with Inc. on: Facebook: https://www.facebook.com/Inc Twitter: https://twitter.com/Inc Linkedin: https://www.linkedin.com/company/inc-... Instagram: https://www ...\n",
            "thumbnailUrl        : https://tse3.mm.bing.net/th?id=OVP.w22OCIanoy3kZ0fm0-ThswEsDh&pid=Api\n",
            "datePublished       : 2019-08-19T13:00:12.0000000\n",
            "publisher           : [{'name': 'YouTube'}]\n",
            "isAccessibleForFree : True\n",
            "contentUrl          : https://www.youtube.com/watch?v=jcFbGsl8DDI\n",
            "hostPageUrl         : https://www.youtube.com/watch?v=jcFbGsl8DDI\n",
            "encodingFormat      : mp4\n",
            "hostPageDisplayUrl  : https://www.youtube.com/watch?v=jcFbGsl8DDI\n",
            "width               : 1280\n",
            "height              : 720\n",
            "duration            : PT2M22S\n",
            "motionThumbnailUrl  : https://tse3.mm.bing.net/th?id=OM.sdERgvuIvc0jJg_1583925985&pid=Api\n",
            "embedHtml           : <iframe width=\"1280\" height=\"720\" src=\"http://www.youtube.com/embed/jcFbGsl8DDI?autoplay=1\" frameborder=\"0\" allowfullscreen></iframe>\n",
            "allowHttpsEmbed     : True\n",
            "viewCount           : 5193\n",
            "thumbnail           : {'width': 160, 'height': 120}\n",
            "allowMobileEmbed    : True\n",
            "isSuperfresh        : False\n",
            "---------------------------------------------------------------------------------------------------- \n",
            "\n",
            "webSearchUrl        : https://www.bing.com/videos/search?q=steve%20jobs&view=detail&mid=0EC4369DADE90B877A4F0EC4369DADE90B877A4F\n",
            "name                : Bill Gates calls Steve Jobs a 'wizard' who saved Apple\n",
            "description         : Steve Jobs was a wizard who \"cast spells on people\" to help keep Apple afloat during the company's darkest days, according to longtime rival Bill Gates. The Microsoft (MSFT) founder discussed his and Jobs' leadership styles with CNN's Fareed Zakaria Sunday. Both men are known for being tough leaders who foster an intense workplace culture ...\n",
            "thumbnailUrl        : https://tse4.mm.bing.net/th?id=OVP.-_gUUW2WnaQSzfxiL0LWMAHfFn&pid=Api\n",
            "datePublished       : 2019-07-08T21:10:20.0000000\n",
            "publisher           : [{'name': 'YouTube'}]\n",
            "isAccessibleForFree : True\n",
            "contentUrl          : https://www.youtube.com/watch?v=ZeKSDy15q-I\n",
            "hostPageUrl         : https://www.youtube.com/watch?v=ZeKSDy15q-I\n",
            "encodingFormat      : mp4\n",
            "hostPageDisplayUrl  : https://www.youtube.com/watch?v=ZeKSDy15q-I\n",
            "width               : 1280\n",
            "height              : 720\n",
            "duration            : PT4M47S\n",
            "embedHtml           : <iframe width=\"1280\" height=\"720\" src=\"http://www.youtube.com/embed/ZeKSDy15q-I?autoplay=1\" frameborder=\"0\" allowfullscreen></iframe>\n",
            "allowHttpsEmbed     : True\n",
            "viewCount           : 354818\n",
            "thumbnail           : {'width': 160, 'height': 119}\n",
            "allowMobileEmbed    : True\n",
            "isSuperfresh        : False\n",
            "---------------------------------------------------------------------------------------------------- \n",
            "\n",
            "webSearchUrl        : https://www.bing.com/videos/search?q=steve%20jobs&view=detail&mid=D602D7437ED9A047CC01D602D7437ED9A047CC01\n",
            "name                : Steve Jobs MIT Class: What he learnt after he was fired from Apple?\n",
            "description         : What Steve Jobs learned after he was fired from Apple\n",
            "thumbnailUrl        : https://tse2.mm.bing.net/th?id=OVP.bIorgh-do54m9CGVr38SBAEsDh&pid=Api\n",
            "datePublished       : 2018-04-12T18:31:47.0000000\n",
            "publisher           : [{'name': 'YouTube'}]\n",
            "isAccessibleForFree : True\n",
            "contentUrl          : https://www.youtube.com/watch?v=YXUhLbV8Nrg\n",
            "hostPageUrl         : https://www.youtube.com/watch?v=YXUhLbV8Nrg\n",
            "encodingFormat      : mp4\n",
            "hostPageDisplayUrl  : https://www.youtube.com/watch?v=YXUhLbV8Nrg\n",
            "width               : 1280\n",
            "height              : 720\n",
            "duration            : PT1H12M54S\n",
            "motionThumbnailUrl  : https://tse2.mm.bing.net/th?id=OM.AcxHoNl-Q9cC1g_1584093655&pid=Api\n",
            "embedHtml           : <iframe width=\"1280\" height=\"720\" src=\"http://www.youtube.com/embed/YXUhLbV8Nrg?autoplay=1\" frameborder=\"0\" allowfullscreen></iframe>\n",
            "allowHttpsEmbed     : True\n",
            "viewCount           : 128597\n",
            "thumbnail           : {'width': 160, 'height': 120}\n",
            "allowMobileEmbed    : True\n",
            "isSuperfresh        : False\n",
            "---------------------------------------------------------------------------------------------------- \n",
            "\n",
            "webSearchUrl        : https://www.bing.com/videos/search?q=steve%20jobs&view=detail&mid=891213E359CCDE641486891213E359CCDE641486\n",
            "name                : Steve Jobs Worn Shirt is in this iPhone\n",
            "description         : This is the iPhone 11 Pro Superior Steve Jobs. Yes, it has an actual piece of Steve Jobs' shirt embedded in it. https://caviar.global/caviar-iphone-11/iphone-11-pro-superior-jobs/ FOLLOW ME IN THESE PLACES FOR UPDATES Twitter - http://twitter.com/unboxtherapy Facebook - http://facebook.com/unboxtherapy Instagram - http://instagram.com/unboxtherapy\n",
            "thumbnailUrl        : https://tse2.mm.bing.net/th?id=OVP.C3fF6qgDOiO3F35tU-32ugEsDh&pid=Api\n",
            "datePublished       : 2019-11-22T16:59:14.0000000\n",
            "publisher           : [{'name': 'YouTube'}]\n",
            "isAccessibleForFree : True\n",
            "contentUrl          : https://www.youtube.com/watch?v=dDocQ6Qba8g\n",
            "hostPageUrl         : https://www.youtube.com/watch?v=dDocQ6Qba8g\n",
            "encodingFormat      : mp4\n",
            "hostPageDisplayUrl  : https://www.youtube.com/watch?v=dDocQ6Qba8g\n",
            "width               : 1280\n",
            "height              : 720\n",
            "duration            : PT10M47S\n",
            "motionThumbnailUrl  : https://tse2.mm.bing.net/th?id=OM.hhRk3sxZ4xMSiQ_1582640293&pid=Api\n",
            "embedHtml           : <iframe width=\"1280\" height=\"720\" src=\"http://www.youtube.com/embed/dDocQ6Qba8g?autoplay=1\" frameborder=\"0\" allowfullscreen></iframe>\n",
            "allowHttpsEmbed     : True\n",
            "viewCount           : 5572283\n",
            "thumbnail           : {'width': 160, 'height': 120}\n",
            "allowMobileEmbed    : True\n",
            "isSuperfresh        : False\n",
            "---------------------------------------------------------------------------------------------------- \n",
            "\n",
            "webSearchUrl        : https://www.bing.com/videos/search?q=steve%20jobs&view=detail&mid=F3946EA3ACE7030648BBF3946EA3ACE7030648BB\n",
            "name                : Why Steve Jobs Didn't Have a License Plate\n",
            "description         : What do you know about Steve Jobs, the legendary co-founder of Apple, who created one of the greatest gadgets of our time? Turns out, he was a man of mystery, and in the most literal sense of the word. Just think about it, he'd been driving a car around Silicon Valley without a license plate for years on end! That meant breaking the law, which ...\n",
            "thumbnailUrl        : https://tse4.mm.bing.net/th?id=OVP.1B4U0TLT3kMG2SMloEhDPAEsDh&pid=Api\n",
            "datePublished       : 2019-10-10T17:00:11.0000000\n",
            "publisher           : [{'name': 'YouTube'}]\n",
            "isAccessibleForFree : True\n",
            "contentUrl          : https://www.youtube.com/watch?v=bKsDLW9akPo\n",
            "hostPageUrl         : https://www.youtube.com/watch?v=bKsDLW9akPo\n",
            "encodingFormat      : mp4\n",
            "hostPageDisplayUrl  : https://www.youtube.com/watch?v=bKsDLW9akPo\n",
            "width               : 1280\n",
            "height              : 720\n",
            "duration            : PT9M10S\n",
            "motionThumbnailUrl  : https://tse4.mm.bing.net/th?id=OM.u0gGA-eso26U8w_1581441457&pid=Api\n",
            "embedHtml           : <iframe width=\"1280\" height=\"720\" src=\"http://www.youtube.com/embed/bKsDLW9akPo?autoplay=1\" frameborder=\"0\" allowfullscreen></iframe>\n",
            "allowHttpsEmbed     : True\n",
            "viewCount           : 1927182\n",
            "thumbnail           : {'width': 160, 'height': 120}\n",
            "allowMobileEmbed    : True\n",
            "isSuperfresh        : False\n",
            "---------------------------------------------------------------------------------------------------- \n",
            "\n",
            "webSearchUrl        : https://www.bing.com/videos/search?q=steve%20jobs&view=detail&mid=6843BFF961C7F4093CC66843BFF961C7F4093CC6\n",
            "name                : How Steve Jobs Saved Pixar from Bankruptcy\n",
            "description         : Audio Book: https://goo.gl/p8auh3 Amazon US link: http://bit.ly/NewThinkingbook Amazon India Link: https://goo.gl/qJCC1T Amazon UK link: https://goo.gl/RBxisf Ebook on Google Play: http://bit.ly/NewThinkingGooglePlay Subscribe here: https://goo.gl/9FS8uF Check out the previous episode: Become a Patron!: https://www.patreon.com/ColdFusion_TV CF ...\n",
            "thumbnailUrl        : https://tse1.mm.bing.net/th?id=OVP.G08CpmdXk2gkZAKt7BDSCwEsDh&pid=Api\n",
            "datePublished       : 2019-08-04T20:04:19.0000000\n",
            "publisher           : [{'name': 'YouTube'}]\n",
            "isAccessibleForFree : True\n",
            "contentUrl          : https://www.youtube.com/watch?v=nmwv0IGO3vw\n",
            "hostPageUrl         : https://www.youtube.com/watch?v=nmwv0IGO3vw\n",
            "encodingFormat      : mp4\n",
            "hostPageDisplayUrl  : https://www.youtube.com/watch?v=nmwv0IGO3vw\n",
            "width               : 1280\n",
            "height              : 720\n",
            "duration            : PT13M4S\n",
            "embedHtml           : <iframe width=\"1280\" height=\"720\" src=\"http://www.youtube.com/embed/nmwv0IGO3vw?autoplay=1\" frameborder=\"0\" allowfullscreen></iframe>\n",
            "allowHttpsEmbed     : True\n",
            "viewCount           : 333584\n",
            "thumbnail           : {'width': 160, 'height': 120}\n",
            "allowMobileEmbed    : True\n",
            "isSuperfresh        : False\n",
            "---------------------------------------------------------------------------------------------------- \n",
            "\n",
            "webSearchUrl        : https://www.bing.com/videos/search?q=steve%20jobs&view=detail&mid=CC9D148C0C1C3AC54EB7CC9D148C0C1C3AC54EB7\n",
            "name                : Steve Jobs Would LOVE the Apple Pencil\n",
            "description         : Whenever I do a video about the iPad or Apple pencil I know I'm going to get comments about how much Steve Jobs would have hated it. I'm not so sure, in this video I dig a little deeper and try to figure out why he hated styluses. EMAIL NEWSLETTER: http://eepurl.com/b-YDej Get Discounts to All My Courses! http://brad.site/learn ...\n",
            "thumbnailUrl        : https://tse2.mm.bing.net/th?id=OVP.WM-ae4FLi3aoYsb7PkOKaAEsDh&pid=Api\n",
            "datePublished       : 2019-07-01T13:16:39.0000000\n",
            "publisher           : [{'name': 'YouTube'}]\n",
            "isAccessibleForFree : True\n",
            "contentUrl          : https://www.youtube.com/watch?v=BZ-Vvl9_WiU\n",
            "hostPageUrl         : https://www.youtube.com/watch?v=BZ-Vvl9_WiU\n",
            "encodingFormat      : mp4\n",
            "hostPageDisplayUrl  : https://www.youtube.com/watch?v=BZ-Vvl9_WiU\n",
            "width               : 1280\n",
            "height              : 720\n",
            "duration            : PT12M58S\n",
            "motionThumbnailUrl  : https://tse2.mm.bing.net/th?id=OM.t07FOhwMjBSdzA_1579833050&pid=Api\n",
            "embedHtml           : <iframe width=\"1280\" height=\"720\" src=\"http://www.youtube.com/embed/BZ-Vvl9_WiU?autoplay=1\" frameborder=\"0\" allowfullscreen></iframe>\n",
            "allowHttpsEmbed     : True\n",
            "viewCount           : 31582\n",
            "thumbnail           : {'width': 160, 'height': 120}\n",
            "allowMobileEmbed    : True\n",
            "isSuperfresh        : False\n",
            "---------------------------------------------------------------------------------------------------- \n",
            "\n"
          ],
          "name": "stdout"
        }
      ]
    },
    {
      "cell_type": "code",
      "metadata": {
        "id": "W4bxO1tX8A3m",
        "colab_type": "code",
        "colab": {
          "base_uri": "https://localhost:8080/",
          "height": 33
        },
        "outputId": "c92b59a1-e12c-4290-e585-4a3aa582c120"
      },
      "source": [
        "res['videos']['value'][0]['webSearchUrl']"
      ],
      "execution_count": 32,
      "outputs": [
        {
          "output_type": "execute_result",
          "data": {
            "text/plain": [
              "'https://www.bing.com/videos/search?q=steve%20jobs&view=detail&mid=388D51581ECEAF5EE1F6388D51581ECEAF5EE1F6'"
            ]
          },
          "metadata": {
            "tags": []
          },
          "execution_count": 32
        }
      ]
    },
    {
      "cell_type": "code",
      "metadata": {
        "id": "UNev9xpi8Nr4",
        "colab_type": "code",
        "colab": {}
      },
      "source": [
        ""
      ],
      "execution_count": 0,
      "outputs": []
    },
    {
      "cell_type": "markdown",
      "metadata": {
        "id": "W8ZJkDrC8PrH",
        "colab_type": "text"
      },
      "source": [
        "### rankingResponse\n",
        "\n",
        "- It will contains the urls to get the next page results"
      ]
    },
    {
      "cell_type": "code",
      "metadata": {
        "id": "u5nED46C8UUu",
        "colab_type": "code",
        "colab": {}
      },
      "source": [
        ""
      ],
      "execution_count": 0,
      "outputs": []
    }
  ]
}